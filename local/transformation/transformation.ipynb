{
 "cells": [
  {
   "cell_type": "code",
   "execution_count": 1,
   "id": "e5fee2b7-2e20-4971-ab1c-0398ad9f4cd4",
   "metadata": {},
   "outputs": [],
   "source": [
    "from pyspark.sql import SparkSession, Window\n",
    "from pyspark.sql import types\n",
    "from pyspark.sql import functions as F\n",
    "from pyspark.sql.functions import col\n",
    "from pyspark.sql.window import Window\n",
    "import os\n",
    "import sys"
   ]
  },
  {
   "cell_type": "code",
   "execution_count": 2,
   "id": "986e8379-26b8-473f-881d-24ddff425678",
   "metadata": {},
   "outputs": [],
   "source": [
    "year = sys.argv[1]\n",
    "month = sys.argv[2]"
   ]
  },
  {
   "cell_type": "code",
   "execution_count": 3,
   "id": "ff620977-e0a2-4e99-bf5f-5798da462433",
   "metadata": {
    "scrolled": true
   },
   "outputs": [
    {
     "name": "stderr",
     "output_type": "stream",
     "text": [
      "Setting default log level to \"WARN\".\n",
      "To adjust logging level use sc.setLogLevel(newLevel). For SparkR, use setLogLevel(newLevel).\n",
      "24/09/09 15:45:14 WARN NativeCodeLoader: Unable to load native-hadoop library for your platform... using builtin-java classes where applicable\n"
     ]
    }
   ],
   "source": [
    "spark = SparkSession.builder \\\n",
    "    .master('local[*]') \\\n",
    "    .appName('data_transformation') \\\n",
    "    .getOrCreate()\n",
    "\n",
    "sc = spark.sparkContext"
   ]
  },
  {
   "cell_type": "code",
   "execution_count": 4,
   "id": "b8fb1ffe-e4e4-4d15-b86d-310090abc549",
   "metadata": {},
   "outputs": [],
   "source": [
    "data_path = '../raw_data'"
   ]
  },
  {
   "cell_type": "code",
   "execution_count": 5,
   "id": "a226243b-6d92-4e9e-9212-c3136a5c5e35",
   "metadata": {},
   "outputs": [],
   "source": [
    "new_schema = types.StructType([\n",
    "    types.StructField('VendorID', types.IntegerType(), True), \n",
    "    types.StructField('tpep_pickup_datetime', types.TimestampNTZType(), True), \n",
    "    types.StructField('tpep_dropoff_datetime', types.TimestampNTZType(), True), \n",
    "    types.StructField('passenger_count', types.IntegerType(), True), \n",
    "    types.StructField('trip_distance', types.FloatType(), True), \n",
    "    types.StructField('RatecodeID', types.IntegerType(), True), \n",
    "    types.StructField('store_and_fwd_flag', types.StringType(), True), \n",
    "    types.StructField('PULocationID', types.IntegerType(), True), \n",
    "    types.StructField('DOLocationID', types.IntegerType(), True), \n",
    "    types.StructField('payment_type', types.IntegerType(), True), \n",
    "    types.StructField('fare_amount', types.FloatType(), True), \n",
    "    types.StructField('extra', types.FloatType(), True), \n",
    "    types.StructField('mta_tax', types.FloatType(), True), \n",
    "    types.StructField('tip_amount', types.FloatType(), True), \n",
    "    types.StructField('tolls_amount', types.FloatType(), True), \n",
    "    types.StructField('improvement_surcharge', types.FloatType(), True), \n",
    "    types.StructField('total_amount', types.FloatType(), True), \n",
    "    types.StructField('congestion_surcharge', types.FloatType(), True), \n",
    "    types.StructField('airport_fee', types.IntegerType(), True)])"
   ]
  },
  {
   "cell_type": "code",
   "execution_count": 41,
   "id": "481f32e2-722e-4f62-a49b-9afb884f3a65",
   "metadata": {},
   "outputs": [],
   "source": [
    "df = spark.read.option('headers', True).parquet(f'{data_path}/2019/*/*.parquet')"
   ]
  },
  {
   "cell_type": "code",
   "execution_count": 42,
   "id": "056b1c29-58e3-4173-80cb-a2f891013539",
   "metadata": {},
   "outputs": [],
   "source": [
    "old_schema = df.schema"
   ]
  },
  {
   "cell_type": "code",
   "execution_count": 43,
   "id": "de8becd5-bf83-4106-bb2e-f697aa549c74",
   "metadata": {
    "scrolled": true
   },
   "outputs": [],
   "source": [
    "for old_field, new_field in zip(old_schema.fields, new_schema.fields):\n",
    "    df = df.withColumn(new_field.name, col(old_field.name).cast(new_field.dataType))"
   ]
  },
  {
   "cell_type": "code",
   "execution_count": 44,
   "id": "ef0183e8-6fdf-46b7-94c6-debcd6fd3adb",
   "metadata": {},
   "outputs": [],
   "source": [
    "df = df.withColumnRenamed('VendorID', 'vendor_id') \\\n",
    "    .withColumnRenamed('RatecodeID', 'ratecode_id') \\\n",
    "    .withColumnRenamed('payment_type', 'payment_type_id') \\\n",
    "    .withColumnRenamed('tpep_pickup_datetime', 'pickup_datetime') \\\n",
    "    .withColumnRenamed('tpep_dropoff_datetime', 'dropoff_datetime') \\\n",
    "    .withColumnRenamed('PULocationID', 'pickup_location_id') \\\n",
    "    .withColumnRenamed('DOLocationID', 'dropoff_location_id')"
   ]
  },
  {
   "cell_type": "code",
   "execution_count": 45,
   "id": "00275fbd-a65d-459c-b975-1e1bbdeb77fd",
   "metadata": {
    "scrolled": true
   },
   "outputs": [],
   "source": [
    "df = df.filter((col('fare_amount') > 0) \\\n",
    "               & (col('trip_distance') > 0) \\\n",
    "               & (col('extra') > 0))\n",
    "\n",
    "df = df.filter((col('ratecode_id') <= 6))\n",
    "\n",
    "df = df.withColumn('congestion_surcharge', F.when(col('congestion_surcharge').isNull(), 0).otherwise(col('congestion_surcharge')))\n",
    "df = df.withColumn('airport_fee', F.when(col('airport_fee').isNull(), 0).otherwise(col('airport_fee')))"
   ]
  },
  {
   "cell_type": "code",
   "execution_count": 46,
   "id": "4b89f317-1f19-47f3-9098-69bfed75cb1e",
   "metadata": {},
   "outputs": [
    {
     "name": "stderr",
     "output_type": "stream",
     "text": [
      "24/09/09 18:59:25 WARN WindowExec: No Partition Defined for Window operation! Moving all data to a single partition, this can cause serious performance degradation.\n",
      "24/09/09 18:59:25 WARN WindowExec: No Partition Defined for Window operation! Moving all data to a single partition, this can cause serious performance degradation.\n",
      "24/09/09 18:59:29 WARN WindowExec: No Partition Defined for Window operation! Moving all data to a single partition, this can cause serious performance degradation.\n",
      "24/09/09 18:59:29 WARN WindowExec: No Partition Defined for Window operation! Moving all data to a single partition, this can cause serious performance degradation.\n",
      "ERROR:root:KeyboardInterrupt while sending command.                 (0 + 1) / 1]\n",
      "Traceback (most recent call last):\n",
      "  File \"/opt/spark/python/lib/py4j-0.10.9.7-src.zip/py4j/java_gateway.py\", line 1038, in send_command\n",
      "    response = connection.send_command(command)\n",
      "  File \"/opt/spark/python/lib/py4j-0.10.9.7-src.zip/py4j/clientserver.py\", line 511, in send_command\n",
      "    answer = smart_decode(self.stream.readline()[:-1])\n",
      "  File \"/usr/lib/python3.10/socket.py\", line 705, in readinto\n",
      "    return self._sock.recv_into(b)\n",
      "KeyboardInterrupt\n"
     ]
    },
    {
     "ename": "KeyboardInterrupt",
     "evalue": "",
     "output_type": "error",
     "traceback": [
      "\u001b[0;31m---------------------------------------------------------------------------\u001b[0m",
      "\u001b[0;31mKeyboardInterrupt\u001b[0m                         Traceback (most recent call last)",
      "Cell \u001b[0;32mIn[46], line 15\u001b[0m\n\u001b[1;32m     11\u001b[0m     upper_mid \u001b[38;5;241m=\u001b[39m lower_mid\n\u001b[1;32m     13\u001b[0m median_df \u001b[38;5;241m=\u001b[39m df_rn\u001b[38;5;241m.\u001b[39mfilter((col(\u001b[38;5;124m'\u001b[39m\u001b[38;5;124mrn\u001b[39m\u001b[38;5;124m'\u001b[39m) \u001b[38;5;241m==\u001b[39m lower_mid) \u001b[38;5;241m|\u001b[39m (col(\u001b[38;5;124m'\u001b[39m\u001b[38;5;124mrn\u001b[39m\u001b[38;5;124m'\u001b[39m) \u001b[38;5;241m==\u001b[39m upper_mid))\n\u001b[0;32m---> 15\u001b[0m median_value \u001b[38;5;241m=\u001b[39m \u001b[43mmedian_df\u001b[49m\u001b[38;5;241;43m.\u001b[39;49m\u001b[43magg\u001b[49m\u001b[43m(\u001b[49m\u001b[43mF\u001b[49m\u001b[38;5;241;43m.\u001b[39;49m\u001b[43mavg\u001b[49m\u001b[43m(\u001b[49m\u001b[43mcol\u001b[49m\u001b[43m(\u001b[49m\u001b[38;5;124;43m'\u001b[39;49m\u001b[38;5;124;43mpassenger_count\u001b[39;49m\u001b[38;5;124;43m'\u001b[39;49m\u001b[43m)\u001b[49m\u001b[43m)\u001b[49m\u001b[43m)\u001b[49m\u001b[38;5;241;43m.\u001b[39;49m\u001b[43mcollect\u001b[49m\u001b[43m(\u001b[49m\u001b[43m)\u001b[49m[\u001b[38;5;241m0\u001b[39m][\u001b[38;5;241m0\u001b[39m]\n\u001b[1;32m     17\u001b[0m df \u001b[38;5;241m=\u001b[39m df\u001b[38;5;241m.\u001b[39mwithColumn(\u001b[38;5;124m'\u001b[39m\u001b[38;5;124mpassenger_count\u001b[39m\u001b[38;5;124m'\u001b[39m, F\u001b[38;5;241m.\u001b[39mwhen(col(\u001b[38;5;124m'\u001b[39m\u001b[38;5;124mpassenger_count\u001b[39m\u001b[38;5;124m'\u001b[39m) \u001b[38;5;241m==\u001b[39m \u001b[38;5;241m0\u001b[39m, median_value)\u001b[38;5;241m.\u001b[39motherwise(col(\u001b[38;5;124m'\u001b[39m\u001b[38;5;124mpassenger_count\u001b[39m\u001b[38;5;124m'\u001b[39m)))\n",
      "File \u001b[0;32m/opt/spark/python/pyspark/sql/dataframe.py:1216\u001b[0m, in \u001b[0;36mDataFrame.collect\u001b[0;34m(self)\u001b[0m\n\u001b[1;32m   1196\u001b[0m \u001b[38;5;250m\u001b[39m\u001b[38;5;124;03m\"\"\"Returns all the records as a list of :class:`Row`.\u001b[39;00m\n\u001b[1;32m   1197\u001b[0m \n\u001b[1;32m   1198\u001b[0m \u001b[38;5;124;03m.. versionadded:: 1.3.0\u001b[39;00m\n\u001b[0;32m   (...)\u001b[0m\n\u001b[1;32m   1213\u001b[0m \u001b[38;5;124;03m[Row(age=14, name='Tom'), Row(age=23, name='Alice'), Row(age=16, name='Bob')]\u001b[39;00m\n\u001b[1;32m   1214\u001b[0m \u001b[38;5;124;03m\"\"\"\u001b[39;00m\n\u001b[1;32m   1215\u001b[0m \u001b[38;5;28;01mwith\u001b[39;00m SCCallSiteSync(\u001b[38;5;28mself\u001b[39m\u001b[38;5;241m.\u001b[39m_sc):\n\u001b[0;32m-> 1216\u001b[0m     sock_info \u001b[38;5;241m=\u001b[39m \u001b[38;5;28;43mself\u001b[39;49m\u001b[38;5;241;43m.\u001b[39;49m\u001b[43m_jdf\u001b[49m\u001b[38;5;241;43m.\u001b[39;49m\u001b[43mcollectToPython\u001b[49m\u001b[43m(\u001b[49m\u001b[43m)\u001b[49m\n\u001b[1;32m   1217\u001b[0m \u001b[38;5;28;01mreturn\u001b[39;00m \u001b[38;5;28mlist\u001b[39m(_load_from_socket(sock_info, BatchedSerializer(CPickleSerializer())))\n",
      "File \u001b[0;32m/opt/spark/python/lib/py4j-0.10.9.7-src.zip/py4j/java_gateway.py:1321\u001b[0m, in \u001b[0;36mJavaMember.__call__\u001b[0;34m(self, *args)\u001b[0m\n\u001b[1;32m   1314\u001b[0m args_command, temp_args \u001b[38;5;241m=\u001b[39m \u001b[38;5;28mself\u001b[39m\u001b[38;5;241m.\u001b[39m_build_args(\u001b[38;5;241m*\u001b[39margs)\n\u001b[1;32m   1316\u001b[0m command \u001b[38;5;241m=\u001b[39m proto\u001b[38;5;241m.\u001b[39mCALL_COMMAND_NAME \u001b[38;5;241m+\u001b[39m\\\n\u001b[1;32m   1317\u001b[0m     \u001b[38;5;28mself\u001b[39m\u001b[38;5;241m.\u001b[39mcommand_header \u001b[38;5;241m+\u001b[39m\\\n\u001b[1;32m   1318\u001b[0m     args_command \u001b[38;5;241m+\u001b[39m\\\n\u001b[1;32m   1319\u001b[0m     proto\u001b[38;5;241m.\u001b[39mEND_COMMAND_PART\n\u001b[0;32m-> 1321\u001b[0m answer \u001b[38;5;241m=\u001b[39m \u001b[38;5;28;43mself\u001b[39;49m\u001b[38;5;241;43m.\u001b[39;49m\u001b[43mgateway_client\u001b[49m\u001b[38;5;241;43m.\u001b[39;49m\u001b[43msend_command\u001b[49m\u001b[43m(\u001b[49m\u001b[43mcommand\u001b[49m\u001b[43m)\u001b[49m\n\u001b[1;32m   1322\u001b[0m return_value \u001b[38;5;241m=\u001b[39m get_return_value(\n\u001b[1;32m   1323\u001b[0m     answer, \u001b[38;5;28mself\u001b[39m\u001b[38;5;241m.\u001b[39mgateway_client, \u001b[38;5;28mself\u001b[39m\u001b[38;5;241m.\u001b[39mtarget_id, \u001b[38;5;28mself\u001b[39m\u001b[38;5;241m.\u001b[39mname)\n\u001b[1;32m   1325\u001b[0m \u001b[38;5;28;01mfor\u001b[39;00m temp_arg \u001b[38;5;129;01min\u001b[39;00m temp_args:\n",
      "File \u001b[0;32m/opt/spark/python/lib/py4j-0.10.9.7-src.zip/py4j/java_gateway.py:1038\u001b[0m, in \u001b[0;36mGatewayClient.send_command\u001b[0;34m(self, command, retry, binary)\u001b[0m\n\u001b[1;32m   1036\u001b[0m connection \u001b[38;5;241m=\u001b[39m \u001b[38;5;28mself\u001b[39m\u001b[38;5;241m.\u001b[39m_get_connection()\n\u001b[1;32m   1037\u001b[0m \u001b[38;5;28;01mtry\u001b[39;00m:\n\u001b[0;32m-> 1038\u001b[0m     response \u001b[38;5;241m=\u001b[39m \u001b[43mconnection\u001b[49m\u001b[38;5;241;43m.\u001b[39;49m\u001b[43msend_command\u001b[49m\u001b[43m(\u001b[49m\u001b[43mcommand\u001b[49m\u001b[43m)\u001b[49m\n\u001b[1;32m   1039\u001b[0m     \u001b[38;5;28;01mif\u001b[39;00m binary:\n\u001b[1;32m   1040\u001b[0m         \u001b[38;5;28;01mreturn\u001b[39;00m response, \u001b[38;5;28mself\u001b[39m\u001b[38;5;241m.\u001b[39m_create_connection_guard(connection)\n",
      "File \u001b[0;32m/opt/spark/python/lib/py4j-0.10.9.7-src.zip/py4j/clientserver.py:511\u001b[0m, in \u001b[0;36mClientServerConnection.send_command\u001b[0;34m(self, command)\u001b[0m\n\u001b[1;32m    509\u001b[0m \u001b[38;5;28;01mtry\u001b[39;00m:\n\u001b[1;32m    510\u001b[0m     \u001b[38;5;28;01mwhile\u001b[39;00m \u001b[38;5;28;01mTrue\u001b[39;00m:\n\u001b[0;32m--> 511\u001b[0m         answer \u001b[38;5;241m=\u001b[39m smart_decode(\u001b[38;5;28;43mself\u001b[39;49m\u001b[38;5;241;43m.\u001b[39;49m\u001b[43mstream\u001b[49m\u001b[38;5;241;43m.\u001b[39;49m\u001b[43mreadline\u001b[49m\u001b[43m(\u001b[49m\u001b[43m)\u001b[49m[:\u001b[38;5;241m-\u001b[39m\u001b[38;5;241m1\u001b[39m])\n\u001b[1;32m    512\u001b[0m         logger\u001b[38;5;241m.\u001b[39mdebug(\u001b[38;5;124m\"\u001b[39m\u001b[38;5;124mAnswer received: \u001b[39m\u001b[38;5;132;01m{0}\u001b[39;00m\u001b[38;5;124m\"\u001b[39m\u001b[38;5;241m.\u001b[39mformat(answer))\n\u001b[1;32m    513\u001b[0m         \u001b[38;5;66;03m# Happens when a the other end is dead. There might be an empty\u001b[39;00m\n\u001b[1;32m    514\u001b[0m         \u001b[38;5;66;03m# answer before the socket raises an error.\u001b[39;00m\n",
      "File \u001b[0;32m/usr/lib/python3.10/socket.py:705\u001b[0m, in \u001b[0;36mSocketIO.readinto\u001b[0;34m(self, b)\u001b[0m\n\u001b[1;32m    703\u001b[0m \u001b[38;5;28;01mwhile\u001b[39;00m \u001b[38;5;28;01mTrue\u001b[39;00m:\n\u001b[1;32m    704\u001b[0m     \u001b[38;5;28;01mtry\u001b[39;00m:\n\u001b[0;32m--> 705\u001b[0m         \u001b[38;5;28;01mreturn\u001b[39;00m \u001b[38;5;28;43mself\u001b[39;49m\u001b[38;5;241;43m.\u001b[39;49m\u001b[43m_sock\u001b[49m\u001b[38;5;241;43m.\u001b[39;49m\u001b[43mrecv_into\u001b[49m\u001b[43m(\u001b[49m\u001b[43mb\u001b[49m\u001b[43m)\u001b[49m\n\u001b[1;32m    706\u001b[0m     \u001b[38;5;28;01mexcept\u001b[39;00m timeout:\n\u001b[1;32m    707\u001b[0m         \u001b[38;5;28mself\u001b[39m\u001b[38;5;241m.\u001b[39m_timeout_occurred \u001b[38;5;241m=\u001b[39m \u001b[38;5;28;01mTrue\u001b[39;00m\n",
      "\u001b[0;31mKeyboardInterrupt\u001b[0m: "
     ]
    }
   ],
   "source": [
    "window_spec = Window.orderBy('passenger_count')\n",
    "\n",
    "df_rn = df.select(['passenger_count']).withColumn('rn', F.row_number().over(window_spec))\n",
    "total_rows = df.count()\n",
    "                                                         \n",
    "if total_rows % 2 == 0:\n",
    "    lower_mid = total_rows // 2\n",
    "    upper_mid = lower_mid + 1\n",
    "else:\n",
    "    lower_mid = total_rows // 2 + 1\n",
    "    upper_mid = lower_mid\n",
    "\n",
    "median_df = df_rn.filter((col('rn') == lower_mid) | (col('rn') == upper_mid))\n",
    "\n",
    "median_value = median_df.agg(F.avg(col('passenger_count'))).collect()[0][0]\n",
    "\n",
    "df = df.withColumn('passenger_count', F.when(col('passenger_count') == 0, median_value).otherwise(col('passenger_count')))"
   ]
  },
  {
   "cell_type": "code",
   "execution_count": null,
   "id": "d686f27e-c657-462e-ac2c-6eceef3ca5b9",
   "metadata": {},
   "outputs": [
    {
     "name": "stderr",
     "output_type": "stream",
     "text": [
      "Exception in thread \"serve-DataFrame\" java.net.SocketTimeoutException: Accept timed out\n",
      "\tat java.base/sun.nio.ch.NioSocketImpl.timedAccept(Unknown Source)\n",
      "\tat java.base/sun.nio.ch.NioSocketImpl.accept(Unknown Source)\n",
      "\tat java.base/java.net.ServerSocket.implAccept(Unknown Source)\n",
      "\tat java.base/java.net.ServerSocket.platformImplAccept(Unknown Source)\n",
      "\tat java.base/java.net.ServerSocket.implAccept(Unknown Source)\n",
      "\tat java.base/java.net.ServerSocket.implAccept(Unknown Source)\n",
      "\tat java.base/java.net.ServerSocket.accept(Unknown Source)\n",
      "\tat org.apache.spark.security.SocketAuthServer$$anon$1.run(SocketAuthServer.scala:65)\n"
     ]
    }
   ],
   "source": [
    "def index_id(date_column):\n",
    "    year = F.year(date_column)\n",
    "    month = F.lpad(F.month(date_column).cast(\"string\"), 2, \"0\")\n",
    "    day = F.lpad(F.dayofmonth(date_column).cast(\"string\"), 2, \"0\")\n",
    "    hour = F.lpad(F.hour(date_column).cast(\"string\"), 2, \"0\")\n",
    "    minute = F.lpad(F.minute(date_column).cast(\"string\"), 2, \"0\")\n",
    "    second = F.lpad(F.second(date_column).cast(\"string\"), 2, \"0\")\n",
    "    index = F.concat(year, month, day, hour, minute, second)\n",
    "    return index"
   ]
  },
  {
   "cell_type": "code",
   "execution_count": 39,
   "id": "395859b3-d247-4aac-8de8-c8123540e9e6",
   "metadata": {},
   "outputs": [
    {
     "ename": "AnalysisException",
     "evalue": "[UNRESOLVED_COLUMN.WITH_SUGGESTION] A column or function parameter with name `pickup_datetime` cannot be resolved. Did you mean one of the following? [`pickup_datetime_id`, `pickup_location_id`, `dropoff_datetime_id`, `airport_fee`, `tip_amount`].;\n'Project ['pickup_datetime]\n+- Project [vendor_id#459, pickup_datetime_id#739, dropoff_datetime_id#942, pickup_location_id#559, dropoff_location_id#579, ratecode_id#479, passenger_count#677, trip_distance#119, payment_type_id#499, store_and_fwd_flag#159, fare_amount#239, extra#259, mta_tax#279, tip_amount#299, tolls_amount#319, improvement_surcharge#339, congestion_surcharge#599, airport_fee#619, total_amount#359]\n   +- Project [vendor_id#459, pickup_datetime#519, dropoff_datetime#539, passenger_count#677, trip_distance#119, ratecode_id#479, store_and_fwd_flag#159, pickup_location_id#559, dropoff_location_id#579, payment_type_id#499, fare_amount#239, extra#259, mta_tax#279, tip_amount#299, tolls_amount#319, improvement_surcharge#339, total_amount#359, congestion_surcharge#599, airport_fee#619, pickup_datetime_id#739, get_dropoff_datetime_id(dropoff_datetime#539)#941 AS dropoff_datetime_id#942]\n      +- Project [vendor_id#459, pickup_datetime#519, dropoff_datetime#539, passenger_count#677, trip_distance#119, ratecode_id#479, store_and_fwd_flag#159, pickup_location_id#559, dropoff_location_id#579, payment_type_id#499, fare_amount#239, extra#259, mta_tax#279, tip_amount#299, tolls_amount#319, improvement_surcharge#339, total_amount#359, congestion_surcharge#599, airport_fee#619, get_pickup_datetime_id(pickup_datetime#519)#738 AS pickup_datetime_id#739]\n         +- Project [vendor_id#459, pickup_datetime#519, dropoff_datetime#539, CASE WHEN (passenger_count#99 = 0) THEN 1.0 ELSE cast(passenger_count#99 as double) END AS passenger_count#677, trip_distance#119, ratecode_id#479, store_and_fwd_flag#159, pickup_location_id#559, dropoff_location_id#579, payment_type_id#499, fare_amount#239, extra#259, mta_tax#279, tip_amount#299, tolls_amount#319, improvement_surcharge#339, total_amount#359, congestion_surcharge#599, airport_fee#619]\n            +- Project [vendor_id#459, pickup_datetime#519, dropoff_datetime#539, passenger_count#99, trip_distance#119, ratecode_id#479, store_and_fwd_flag#159, pickup_location_id#559, dropoff_location_id#579, payment_type_id#499, fare_amount#239, extra#259, mta_tax#279, tip_amount#299, tolls_amount#319, improvement_surcharge#339, total_amount#359, congestion_surcharge#599, CASE WHEN isnull(airport_fee#399) THEN 0 ELSE airport_fee#399 END AS airport_fee#619]\n               +- Project [vendor_id#459, pickup_datetime#519, dropoff_datetime#539, passenger_count#99, trip_distance#119, ratecode_id#479, store_and_fwd_flag#159, pickup_location_id#559, dropoff_location_id#579, payment_type_id#499, fare_amount#239, extra#259, mta_tax#279, tip_amount#299, tolls_amount#319, improvement_surcharge#339, total_amount#359, CASE WHEN isnull(congestion_surcharge#379) THEN cast(0 as float) ELSE congestion_surcharge#379 END AS congestion_surcharge#599, airport_fee#399]\n                  +- Filter (ratecode_id#479 <= 6)\n                     +- Filter (((fare_amount#239 > cast(0 as float)) AND (trip_distance#119 > cast(0 as float))) AND (extra#259 > cast(0 as float)))\n                        +- Project [vendor_id#459, pickup_datetime#519, dropoff_datetime#539, passenger_count#99, trip_distance#119, ratecode_id#479, store_and_fwd_flag#159, pickup_location_id#559, DOLocationID#199 AS dropoff_location_id#579, payment_type_id#499, fare_amount#239, extra#259, mta_tax#279, tip_amount#299, tolls_amount#319, improvement_surcharge#339, total_amount#359, congestion_surcharge#379, airport_fee#399]\n                           +- Project [vendor_id#459, pickup_datetime#519, dropoff_datetime#539, passenger_count#99, trip_distance#119, ratecode_id#479, store_and_fwd_flag#159, PULocationID#179 AS pickup_location_id#559, DOLocationID#199, payment_type_id#499, fare_amount#239, extra#259, mta_tax#279, tip_amount#299, tolls_amount#319, improvement_surcharge#339, total_amount#359, congestion_surcharge#379, airport_fee#399]\n                              +- Project [vendor_id#459, pickup_datetime#519, tpep_dropoff_datetime#79 AS dropoff_datetime#539, passenger_count#99, trip_distance#119, ratecode_id#479, store_and_fwd_flag#159, PULocationID#179, DOLocationID#199, payment_type_id#499, fare_amount#239, extra#259, mta_tax#279, tip_amount#299, tolls_amount#319, improvement_surcharge#339, total_amount#359, congestion_surcharge#379, airport_fee#399]\n                                 +- Project [vendor_id#459, tpep_pickup_datetime#59 AS pickup_datetime#519, tpep_dropoff_datetime#79, passenger_count#99, trip_distance#119, ratecode_id#479, store_and_fwd_flag#159, PULocationID#179, DOLocationID#199, payment_type_id#499, fare_amount#239, extra#259, mta_tax#279, tip_amount#299, tolls_amount#319, improvement_surcharge#339, total_amount#359, congestion_surcharge#379, airport_fee#399]\n                                    +- Project [vendor_id#459, tpep_pickup_datetime#59, tpep_dropoff_datetime#79, passenger_count#99, trip_distance#119, ratecode_id#479, store_and_fwd_flag#159, PULocationID#179, DOLocationID#199, payment_type#219 AS payment_type_id#499, fare_amount#239, extra#259, mta_tax#279, tip_amount#299, tolls_amount#319, improvement_surcharge#339, total_amount#359, congestion_surcharge#379, airport_fee#399]\n                                       +- Project [vendor_id#459, tpep_pickup_datetime#59, tpep_dropoff_datetime#79, passenger_count#99, trip_distance#119, RatecodeID#139 AS ratecode_id#479, store_and_fwd_flag#159, PULocationID#179, DOLocationID#199, payment_type#219, fare_amount#239, extra#259, mta_tax#279, tip_amount#299, tolls_amount#319, improvement_surcharge#339, total_amount#359, congestion_surcharge#379, airport_fee#399]\n                                          +- Project [VendorID#38 AS vendor_id#459, tpep_pickup_datetime#59, tpep_dropoff_datetime#79, passenger_count#99, trip_distance#119, RatecodeID#139, store_and_fwd_flag#159, PULocationID#179, DOLocationID#199, payment_type#219, fare_amount#239, extra#259, mta_tax#279, tip_amount#299, tolls_amount#319, improvement_surcharge#339, total_amount#359, congestion_surcharge#379, airport_fee#399]\n                                             +- Project [VendorID#38, tpep_pickup_datetime#59, tpep_dropoff_datetime#79, passenger_count#99, trip_distance#119, RatecodeID#139, store_and_fwd_flag#159, PULocationID#179, DOLocationID#199, payment_type#219, fare_amount#239, extra#259, mta_tax#279, tip_amount#299, tolls_amount#319, improvement_surcharge#339, total_amount#359, congestion_surcharge#379, cast(airport_fee#18 as int) AS airport_fee#399]\n                                                +- Project [VendorID#38, tpep_pickup_datetime#59, tpep_dropoff_datetime#79, passenger_count#99, trip_distance#119, RatecodeID#139, store_and_fwd_flag#159, PULocationID#179, DOLocationID#199, payment_type#219, fare_amount#239, extra#259, mta_tax#279, tip_amount#299, tolls_amount#319, improvement_surcharge#339, total_amount#359, cast(congestion_surcharge#17 as float) AS congestion_surcharge#379, airport_fee#18]\n                                                   +- Project [VendorID#38, tpep_pickup_datetime#59, tpep_dropoff_datetime#79, passenger_count#99, trip_distance#119, RatecodeID#139, store_and_fwd_flag#159, PULocationID#179, DOLocationID#199, payment_type#219, fare_amount#239, extra#259, mta_tax#279, tip_amount#299, tolls_amount#319, improvement_surcharge#339, cast(total_amount#16 as float) AS total_amount#359, congestion_surcharge#17, airport_fee#18]\n                                                      +- Project [VendorID#38, tpep_pickup_datetime#59, tpep_dropoff_datetime#79, passenger_count#99, trip_distance#119, RatecodeID#139, store_and_fwd_flag#159, PULocationID#179, DOLocationID#199, payment_type#219, fare_amount#239, extra#259, mta_tax#279, tip_amount#299, tolls_amount#319, cast(improvement_surcharge#15 as float) AS improvement_surcharge#339, total_amount#16, congestion_surcharge#17, airport_fee#18]\n                                                         +- Project [VendorID#38, tpep_pickup_datetime#59, tpep_dropoff_datetime#79, passenger_count#99, trip_distance#119, RatecodeID#139, store_and_fwd_flag#159, PULocationID#179, DOLocationID#199, payment_type#219, fare_amount#239, extra#259, mta_tax#279, tip_amount#299, cast(tolls_amount#14 as float) AS tolls_amount#319, improvement_surcharge#15, total_amount#16, congestion_surcharge#17, airport_fee#18]\n                                                            +- Project [VendorID#38, tpep_pickup_datetime#59, tpep_dropoff_datetime#79, passenger_count#99, trip_distance#119, RatecodeID#139, store_and_fwd_flag#159, PULocationID#179, DOLocationID#199, payment_type#219, fare_amount#239, extra#259, mta_tax#279, cast(tip_amount#13 as float) AS tip_amount#299, tolls_amount#14, improvement_surcharge#15, total_amount#16, congestion_surcharge#17, airport_fee#18]\n                                                               +- Project [VendorID#38, tpep_pickup_datetime#59, tpep_dropoff_datetime#79, passenger_count#99, trip_distance#119, RatecodeID#139, store_and_fwd_flag#159, PULocationID#179, DOLocationID#199, payment_type#219, fare_amount#239, extra#259, cast(mta_tax#12 as float) AS mta_tax#279, tip_amount#13, tolls_amount#14, improvement_surcharge#15, total_amount#16, congestion_surcharge#17, airport_fee#18]\n                                                                  +- Project [VendorID#38, tpep_pickup_datetime#59, tpep_dropoff_datetime#79, passenger_count#99, trip_distance#119, RatecodeID#139, store_and_fwd_flag#159, PULocationID#179, DOLocationID#199, payment_type#219, fare_amount#239, cast(extra#11 as float) AS extra#259, mta_tax#12, tip_amount#13, tolls_amount#14, improvement_surcharge#15, total_amount#16, congestion_surcharge#17, airport_fee#18]\n                                                                     +- Project [VendorID#38, tpep_pickup_datetime#59, tpep_dropoff_datetime#79, passenger_count#99, trip_distance#119, RatecodeID#139, store_and_fwd_flag#159, PULocationID#179, DOLocationID#199, payment_type#219, cast(fare_amount#10 as float) AS fare_amount#239, extra#11, mta_tax#12, tip_amount#13, tolls_amount#14, improvement_surcharge#15, total_amount#16, congestion_surcharge#17, airport_fee#18]\n                                                                        +- Project [VendorID#38, tpep_pickup_datetime#59, tpep_dropoff_datetime#79, passenger_count#99, trip_distance#119, RatecodeID#139, store_and_fwd_flag#159, PULocationID#179, DOLocationID#199, cast(payment_type#9L as int) AS payment_type#219, fare_amount#10, extra#11, mta_tax#12, tip_amount#13, tolls_amount#14, improvement_surcharge#15, total_amount#16, congestion_surcharge#17, airport_fee#18]\n                                                                           +- Project [VendorID#38, tpep_pickup_datetime#59, tpep_dropoff_datetime#79, passenger_count#99, trip_distance#119, RatecodeID#139, store_and_fwd_flag#159, PULocationID#179, cast(DOLocationID#8L as int) AS DOLocationID#199, payment_type#9L, fare_amount#10, extra#11, mta_tax#12, tip_amount#13, tolls_amount#14, improvement_surcharge#15, total_amount#16, congestion_surcharge#17, airport_fee#18]\n                                                                              +- Project [VendorID#38, tpep_pickup_datetime#59, tpep_dropoff_datetime#79, passenger_count#99, trip_distance#119, RatecodeID#139, store_and_fwd_flag#159, cast(PULocationID#7L as int) AS PULocationID#179, DOLocationID#8L, payment_type#9L, fare_amount#10, extra#11, mta_tax#12, tip_amount#13, tolls_amount#14, improvement_surcharge#15, total_amount#16, congestion_surcharge#17, airport_fee#18]\n                                                                                 +- Project [VendorID#38, tpep_pickup_datetime#59, tpep_dropoff_datetime#79, passenger_count#99, trip_distance#119, RatecodeID#139, cast(store_and_fwd_flag#6 as string) AS store_and_fwd_flag#159, PULocationID#7L, DOLocationID#8L, payment_type#9L, fare_amount#10, extra#11, mta_tax#12, tip_amount#13, tolls_amount#14, improvement_surcharge#15, total_amount#16, congestion_surcharge#17, airport_fee#18]\n                                                                                    +- Project [VendorID#38, tpep_pickup_datetime#59, tpep_dropoff_datetime#79, passenger_count#99, trip_distance#119, cast(RatecodeID#5 as int) AS RatecodeID#139, store_and_fwd_flag#6, PULocationID#7L, DOLocationID#8L, payment_type#9L, fare_amount#10, extra#11, mta_tax#12, tip_amount#13, tolls_amount#14, improvement_surcharge#15, total_amount#16, congestion_surcharge#17, airport_fee#18]\n                                                                                       +- Project [VendorID#38, tpep_pickup_datetime#59, tpep_dropoff_datetime#79, passenger_count#99, cast(trip_distance#4 as float) AS trip_distance#119, RatecodeID#5, store_and_fwd_flag#6, PULocationID#7L, DOLocationID#8L, payment_type#9L, fare_amount#10, extra#11, mta_tax#12, tip_amount#13, tolls_amount#14, improvement_surcharge#15, total_amount#16, congestion_surcharge#17, airport_fee#18]\n                                                                                          +- Project [VendorID#38, tpep_pickup_datetime#59, tpep_dropoff_datetime#79, cast(passenger_count#3 as int) AS passenger_count#99, trip_distance#4, RatecodeID#5, store_and_fwd_flag#6, PULocationID#7L, DOLocationID#8L, payment_type#9L, fare_amount#10, extra#11, mta_tax#12, tip_amount#13, tolls_amount#14, improvement_surcharge#15, total_amount#16, congestion_surcharge#17, airport_fee#18]\n                                                                                             +- Project [VendorID#38, tpep_pickup_datetime#59, cast(tpep_dropoff_datetime#2 as timestamp_ntz) AS tpep_dropoff_datetime#79, passenger_count#3, trip_distance#4, RatecodeID#5, store_and_fwd_flag#6, PULocationID#7L, DOLocationID#8L, payment_type#9L, fare_amount#10, extra#11, mta_tax#12, tip_amount#13, tolls_amount#14, improvement_surcharge#15, total_amount#16, congestion_surcharge#17, airport_fee#18]\n                                                                                                +- Project [VendorID#38, cast(tpep_pickup_datetime#1 as timestamp_ntz) AS tpep_pickup_datetime#59, tpep_dropoff_datetime#2, passenger_count#3, trip_distance#4, RatecodeID#5, store_and_fwd_flag#6, PULocationID#7L, DOLocationID#8L, payment_type#9L, fare_amount#10, extra#11, mta_tax#12, tip_amount#13, tolls_amount#14, improvement_surcharge#15, total_amount#16, congestion_surcharge#17, airport_fee#18]\n                                                                                                   +- Project [cast(VendorID#0L as int) AS VendorID#38, tpep_pickup_datetime#1, tpep_dropoff_datetime#2, passenger_count#3, trip_distance#4, RatecodeID#5, store_and_fwd_flag#6, PULocationID#7L, DOLocationID#8L, payment_type#9L, fare_amount#10, extra#11, mta_tax#12, tip_amount#13, tolls_amount#14, improvement_surcharge#15, total_amount#16, congestion_surcharge#17, airport_fee#18]\n                                                                                                      +- Relation [VendorID#0L,tpep_pickup_datetime#1,tpep_dropoff_datetime#2,passenger_count#3,trip_distance#4,RatecodeID#5,store_and_fwd_flag#6,PULocationID#7L,DOLocationID#8L,payment_type#9L,fare_amount#10,extra#11,mta_tax#12,tip_amount#13,tolls_amount#14,improvement_surcharge#15,total_amount#16,congestion_surcharge#17,airport_fee#18] parquet\n",
     "output_type": "error",
     "traceback": [
      "\u001b[0;31m---------------------------------------------------------------------------\u001b[0m",
      "\u001b[0;31mAnalysisException\u001b[0m                         Traceback (most recent call last)",
      "Cell \u001b[0;32mIn[39], line 1\u001b[0m\n\u001b[0;32m----> 1\u001b[0m pickup_datetime_dim \u001b[38;5;241m=\u001b[39m \u001b[43mdf\u001b[49m\u001b[38;5;241;43m.\u001b[39;49m\u001b[43mselect\u001b[49m\u001b[43m(\u001b[49m\u001b[43m[\u001b[49m\u001b[38;5;124;43m'\u001b[39;49m\u001b[38;5;124;43mpickup_datetime\u001b[39;49m\u001b[38;5;124;43m'\u001b[39;49m\u001b[43m]\u001b[49m\u001b[43m)\u001b[49m \\\n\u001b[1;32m      2\u001b[0m     \u001b[38;5;241m.\u001b[39mdistinct() \\\n\u001b[1;32m      3\u001b[0m     \u001b[38;5;241m.\u001b[39mwithColumn(\u001b[38;5;124m'\u001b[39m\u001b[38;5;124mpickup_datetime_id\u001b[39m\u001b[38;5;124m'\u001b[39m, index_id(col(\u001b[38;5;124m'\u001b[39m\u001b[38;5;124mpickup_datetime\u001b[39m\u001b[38;5;124m'\u001b[39m))) \\\n\u001b[1;32m      4\u001b[0m     \u001b[38;5;241m.\u001b[39mwithColumn(\u001b[38;5;124m'\u001b[39m\u001b[38;5;124mpickup_hour\u001b[39m\u001b[38;5;124m'\u001b[39m, F\u001b[38;5;241m.\u001b[39mhour(col(\u001b[38;5;124m'\u001b[39m\u001b[38;5;124mpickup_datetime\u001b[39m\u001b[38;5;124m'\u001b[39m))) \\\n\u001b[1;32m      5\u001b[0m     \u001b[38;5;241m.\u001b[39mwithColumn(\u001b[38;5;124m'\u001b[39m\u001b[38;5;124mpickup_day\u001b[39m\u001b[38;5;124m'\u001b[39m, F\u001b[38;5;241m.\u001b[39mdayofmonth(col(\u001b[38;5;124m'\u001b[39m\u001b[38;5;124mpickup_datetime\u001b[39m\u001b[38;5;124m'\u001b[39m))) \\\n\u001b[1;32m      6\u001b[0m     \u001b[38;5;241m.\u001b[39mwithColumn(\u001b[38;5;124m'\u001b[39m\u001b[38;5;124mpickup_month\u001b[39m\u001b[38;5;124m'\u001b[39m, F\u001b[38;5;241m.\u001b[39mmonth(col(\u001b[38;5;124m'\u001b[39m\u001b[38;5;124mpickup_datetime\u001b[39m\u001b[38;5;124m'\u001b[39m))) \\\n\u001b[1;32m      7\u001b[0m     \u001b[38;5;241m.\u001b[39mwithColumn(\u001b[38;5;124m'\u001b[39m\u001b[38;5;124mpickup_year\u001b[39m\u001b[38;5;124m'\u001b[39m, F\u001b[38;5;241m.\u001b[39myear(col(\u001b[38;5;124m'\u001b[39m\u001b[38;5;124mpickup_datetime\u001b[39m\u001b[38;5;124m'\u001b[39m))) \\\n\u001b[1;32m      8\u001b[0m     \u001b[38;5;241m.\u001b[39mwithColumn(\u001b[38;5;124m'\u001b[39m\u001b[38;5;124mpickup_weekday\u001b[39m\u001b[38;5;124m'\u001b[39m, F\u001b[38;5;241m.\u001b[39mdate_format(col(\u001b[38;5;124m'\u001b[39m\u001b[38;5;124mpickup_datetime\u001b[39m\u001b[38;5;124m'\u001b[39m), \u001b[38;5;124m'\u001b[39m\u001b[38;5;124mEEEE\u001b[39m\u001b[38;5;124m'\u001b[39m))\n\u001b[1;32m     10\u001b[0m pickup_datetime_dim \u001b[38;5;241m=\u001b[39m pickup_datetime_dim\u001b[38;5;241m.\u001b[39mselect(\n\u001b[1;32m     11\u001b[0m     \u001b[38;5;124m'\u001b[39m\u001b[38;5;124mpickup_datetime_id\u001b[39m\u001b[38;5;124m'\u001b[39m,\n\u001b[1;32m     12\u001b[0m     \u001b[38;5;124m'\u001b[39m\u001b[38;5;124mpickup_datetime\u001b[39m\u001b[38;5;124m'\u001b[39m,\n\u001b[0;32m   (...)\u001b[0m\n\u001b[1;32m     17\u001b[0m     \u001b[38;5;124m'\u001b[39m\u001b[38;5;124mpickup_weekday\u001b[39m\u001b[38;5;124m'\u001b[39m\n\u001b[1;32m     18\u001b[0m )\n",
      "File \u001b[0;32m/opt/spark/python/pyspark/sql/dataframe.py:3036\u001b[0m, in \u001b[0;36mDataFrame.select\u001b[0;34m(self, *cols)\u001b[0m\n\u001b[1;32m   2991\u001b[0m \u001b[38;5;28;01mdef\u001b[39;00m \u001b[38;5;21mselect\u001b[39m(\u001b[38;5;28mself\u001b[39m, \u001b[38;5;241m*\u001b[39mcols: \u001b[38;5;124m\"\u001b[39m\u001b[38;5;124mColumnOrName\u001b[39m\u001b[38;5;124m\"\u001b[39m) \u001b[38;5;241m-\u001b[39m\u001b[38;5;241m>\u001b[39m \u001b[38;5;124m\"\u001b[39m\u001b[38;5;124mDataFrame\u001b[39m\u001b[38;5;124m\"\u001b[39m:  \u001b[38;5;66;03m# type: ignore[misc]\u001b[39;00m\n\u001b[1;32m   2992\u001b[0m \u001b[38;5;250m    \u001b[39m\u001b[38;5;124;03m\"\"\"Projects a set of expressions and returns a new :class:`DataFrame`.\u001b[39;00m\n\u001b[1;32m   2993\u001b[0m \n\u001b[1;32m   2994\u001b[0m \u001b[38;5;124;03m    .. versionadded:: 1.3.0\u001b[39;00m\n\u001b[0;32m   (...)\u001b[0m\n\u001b[1;32m   3034\u001b[0m \u001b[38;5;124;03m    +-----+---+\u001b[39;00m\n\u001b[1;32m   3035\u001b[0m \u001b[38;5;124;03m    \"\"\"\u001b[39;00m\n\u001b[0;32m-> 3036\u001b[0m     jdf \u001b[38;5;241m=\u001b[39m \u001b[38;5;28;43mself\u001b[39;49m\u001b[38;5;241;43m.\u001b[39;49m\u001b[43m_jdf\u001b[49m\u001b[38;5;241;43m.\u001b[39;49m\u001b[43mselect\u001b[49m\u001b[43m(\u001b[49m\u001b[38;5;28;43mself\u001b[39;49m\u001b[38;5;241;43m.\u001b[39;49m\u001b[43m_jcols\u001b[49m\u001b[43m(\u001b[49m\u001b[38;5;241;43m*\u001b[39;49m\u001b[43mcols\u001b[49m\u001b[43m)\u001b[49m\u001b[43m)\u001b[49m\n\u001b[1;32m   3037\u001b[0m     \u001b[38;5;28;01mreturn\u001b[39;00m DataFrame(jdf, \u001b[38;5;28mself\u001b[39m\u001b[38;5;241m.\u001b[39msparkSession)\n",
      "File \u001b[0;32m/opt/spark/python/lib/py4j-0.10.9.7-src.zip/py4j/java_gateway.py:1322\u001b[0m, in \u001b[0;36mJavaMember.__call__\u001b[0;34m(self, *args)\u001b[0m\n\u001b[1;32m   1316\u001b[0m command \u001b[38;5;241m=\u001b[39m proto\u001b[38;5;241m.\u001b[39mCALL_COMMAND_NAME \u001b[38;5;241m+\u001b[39m\\\n\u001b[1;32m   1317\u001b[0m     \u001b[38;5;28mself\u001b[39m\u001b[38;5;241m.\u001b[39mcommand_header \u001b[38;5;241m+\u001b[39m\\\n\u001b[1;32m   1318\u001b[0m     args_command \u001b[38;5;241m+\u001b[39m\\\n\u001b[1;32m   1319\u001b[0m     proto\u001b[38;5;241m.\u001b[39mEND_COMMAND_PART\n\u001b[1;32m   1321\u001b[0m answer \u001b[38;5;241m=\u001b[39m \u001b[38;5;28mself\u001b[39m\u001b[38;5;241m.\u001b[39mgateway_client\u001b[38;5;241m.\u001b[39msend_command(command)\n\u001b[0;32m-> 1322\u001b[0m return_value \u001b[38;5;241m=\u001b[39m \u001b[43mget_return_value\u001b[49m\u001b[43m(\u001b[49m\n\u001b[1;32m   1323\u001b[0m \u001b[43m    \u001b[49m\u001b[43manswer\u001b[49m\u001b[43m,\u001b[49m\u001b[43m \u001b[49m\u001b[38;5;28;43mself\u001b[39;49m\u001b[38;5;241;43m.\u001b[39;49m\u001b[43mgateway_client\u001b[49m\u001b[43m,\u001b[49m\u001b[43m \u001b[49m\u001b[38;5;28;43mself\u001b[39;49m\u001b[38;5;241;43m.\u001b[39;49m\u001b[43mtarget_id\u001b[49m\u001b[43m,\u001b[49m\u001b[43m \u001b[49m\u001b[38;5;28;43mself\u001b[39;49m\u001b[38;5;241;43m.\u001b[39;49m\u001b[43mname\u001b[49m\u001b[43m)\u001b[49m\n\u001b[1;32m   1325\u001b[0m \u001b[38;5;28;01mfor\u001b[39;00m temp_arg \u001b[38;5;129;01min\u001b[39;00m temp_args:\n\u001b[1;32m   1326\u001b[0m     \u001b[38;5;28;01mif\u001b[39;00m \u001b[38;5;28mhasattr\u001b[39m(temp_arg, \u001b[38;5;124m\"\u001b[39m\u001b[38;5;124m_detach\u001b[39m\u001b[38;5;124m\"\u001b[39m):\n",
      "File \u001b[0;32m/opt/spark/python/pyspark/errors/exceptions/captured.py:175\u001b[0m, in \u001b[0;36mcapture_sql_exception.<locals>.deco\u001b[0;34m(*a, **kw)\u001b[0m\n\u001b[1;32m    171\u001b[0m converted \u001b[38;5;241m=\u001b[39m convert_exception(e\u001b[38;5;241m.\u001b[39mjava_exception)\n\u001b[1;32m    172\u001b[0m \u001b[38;5;28;01mif\u001b[39;00m \u001b[38;5;129;01mnot\u001b[39;00m \u001b[38;5;28misinstance\u001b[39m(converted, UnknownException):\n\u001b[1;32m    173\u001b[0m     \u001b[38;5;66;03m# Hide where the exception came from that shows a non-Pythonic\u001b[39;00m\n\u001b[1;32m    174\u001b[0m     \u001b[38;5;66;03m# JVM exception message.\u001b[39;00m\n\u001b[0;32m--> 175\u001b[0m     \u001b[38;5;28;01mraise\u001b[39;00m converted \u001b[38;5;28;01mfrom\u001b[39;00m \u001b[38;5;28;01mNone\u001b[39;00m\n\u001b[1;32m    176\u001b[0m \u001b[38;5;28;01melse\u001b[39;00m:\n\u001b[1;32m    177\u001b[0m     \u001b[38;5;28;01mraise\u001b[39;00m\n",
      "\u001b[0;31mAnalysisException\u001b[0m: [UNRESOLVED_COLUMN.WITH_SUGGESTION] A column or function parameter with name `pickup_datetime` cannot be resolved. Did you mean one of the following? [`pickup_datetime_id`, `pickup_location_id`, `dropoff_datetime_id`, `airport_fee`, `tip_amount`].;\n'Project ['pickup_datetime]\n+- Project [vendor_id#459, pickup_datetime_id#739, dropoff_datetime_id#942, pickup_location_id#559, dropoff_location_id#579, ratecode_id#479, passenger_count#677, trip_distance#119, payment_type_id#499, store_and_fwd_flag#159, fare_amount#239, extra#259, mta_tax#279, tip_amount#299, tolls_amount#319, improvement_surcharge#339, congestion_surcharge#599, airport_fee#619, total_amount#359]\n   +- Project [vendor_id#459, pickup_datetime#519, dropoff_datetime#539, passenger_count#677, trip_distance#119, ratecode_id#479, store_and_fwd_flag#159, pickup_location_id#559, dropoff_location_id#579, payment_type_id#499, fare_amount#239, extra#259, mta_tax#279, tip_amount#299, tolls_amount#319, improvement_surcharge#339, total_amount#359, congestion_surcharge#599, airport_fee#619, pickup_datetime_id#739, get_dropoff_datetime_id(dropoff_datetime#539)#941 AS dropoff_datetime_id#942]\n      +- Project [vendor_id#459, pickup_datetime#519, dropoff_datetime#539, passenger_count#677, trip_distance#119, ratecode_id#479, store_and_fwd_flag#159, pickup_location_id#559, dropoff_location_id#579, payment_type_id#499, fare_amount#239, extra#259, mta_tax#279, tip_amount#299, tolls_amount#319, improvement_surcharge#339, total_amount#359, congestion_surcharge#599, airport_fee#619, get_pickup_datetime_id(pickup_datetime#519)#738 AS pickup_datetime_id#739]\n         +- Project [vendor_id#459, pickup_datetime#519, dropoff_datetime#539, CASE WHEN (passenger_count#99 = 0) THEN 1.0 ELSE cast(passenger_count#99 as double) END AS passenger_count#677, trip_distance#119, ratecode_id#479, store_and_fwd_flag#159, pickup_location_id#559, dropoff_location_id#579, payment_type_id#499, fare_amount#239, extra#259, mta_tax#279, tip_amount#299, tolls_amount#319, improvement_surcharge#339, total_amount#359, congestion_surcharge#599, airport_fee#619]\n            +- Project [vendor_id#459, pickup_datetime#519, dropoff_datetime#539, passenger_count#99, trip_distance#119, ratecode_id#479, store_and_fwd_flag#159, pickup_location_id#559, dropoff_location_id#579, payment_type_id#499, fare_amount#239, extra#259, mta_tax#279, tip_amount#299, tolls_amount#319, improvement_surcharge#339, total_amount#359, congestion_surcharge#599, CASE WHEN isnull(airport_fee#399) THEN 0 ELSE airport_fee#399 END AS airport_fee#619]\n               +- Project [vendor_id#459, pickup_datetime#519, dropoff_datetime#539, passenger_count#99, trip_distance#119, ratecode_id#479, store_and_fwd_flag#159, pickup_location_id#559, dropoff_location_id#579, payment_type_id#499, fare_amount#239, extra#259, mta_tax#279, tip_amount#299, tolls_amount#319, improvement_surcharge#339, total_amount#359, CASE WHEN isnull(congestion_surcharge#379) THEN cast(0 as float) ELSE congestion_surcharge#379 END AS congestion_surcharge#599, airport_fee#399]\n                  +- Filter (ratecode_id#479 <= 6)\n                     +- Filter (((fare_amount#239 > cast(0 as float)) AND (trip_distance#119 > cast(0 as float))) AND (extra#259 > cast(0 as float)))\n                        +- Project [vendor_id#459, pickup_datetime#519, dropoff_datetime#539, passenger_count#99, trip_distance#119, ratecode_id#479, store_and_fwd_flag#159, pickup_location_id#559, DOLocationID#199 AS dropoff_location_id#579, payment_type_id#499, fare_amount#239, extra#259, mta_tax#279, tip_amount#299, tolls_amount#319, improvement_surcharge#339, total_amount#359, congestion_surcharge#379, airport_fee#399]\n                           +- Project [vendor_id#459, pickup_datetime#519, dropoff_datetime#539, passenger_count#99, trip_distance#119, ratecode_id#479, store_and_fwd_flag#159, PULocationID#179 AS pickup_location_id#559, DOLocationID#199, payment_type_id#499, fare_amount#239, extra#259, mta_tax#279, tip_amount#299, tolls_amount#319, improvement_surcharge#339, total_amount#359, congestion_surcharge#379, airport_fee#399]\n                              +- Project [vendor_id#459, pickup_datetime#519, tpep_dropoff_datetime#79 AS dropoff_datetime#539, passenger_count#99, trip_distance#119, ratecode_id#479, store_and_fwd_flag#159, PULocationID#179, DOLocationID#199, payment_type_id#499, fare_amount#239, extra#259, mta_tax#279, tip_amount#299, tolls_amount#319, improvement_surcharge#339, total_amount#359, congestion_surcharge#379, airport_fee#399]\n                                 +- Project [vendor_id#459, tpep_pickup_datetime#59 AS pickup_datetime#519, tpep_dropoff_datetime#79, passenger_count#99, trip_distance#119, ratecode_id#479, store_and_fwd_flag#159, PULocationID#179, DOLocationID#199, payment_type_id#499, fare_amount#239, extra#259, mta_tax#279, tip_amount#299, tolls_amount#319, improvement_surcharge#339, total_amount#359, congestion_surcharge#379, airport_fee#399]\n                                    +- Project [vendor_id#459, tpep_pickup_datetime#59, tpep_dropoff_datetime#79, passenger_count#99, trip_distance#119, ratecode_id#479, store_and_fwd_flag#159, PULocationID#179, DOLocationID#199, payment_type#219 AS payment_type_id#499, fare_amount#239, extra#259, mta_tax#279, tip_amount#299, tolls_amount#319, improvement_surcharge#339, total_amount#359, congestion_surcharge#379, airport_fee#399]\n                                       +- Project [vendor_id#459, tpep_pickup_datetime#59, tpep_dropoff_datetime#79, passenger_count#99, trip_distance#119, RatecodeID#139 AS ratecode_id#479, store_and_fwd_flag#159, PULocationID#179, DOLocationID#199, payment_type#219, fare_amount#239, extra#259, mta_tax#279, tip_amount#299, tolls_amount#319, improvement_surcharge#339, total_amount#359, congestion_surcharge#379, airport_fee#399]\n                                          +- Project [VendorID#38 AS vendor_id#459, tpep_pickup_datetime#59, tpep_dropoff_datetime#79, passenger_count#99, trip_distance#119, RatecodeID#139, store_and_fwd_flag#159, PULocationID#179, DOLocationID#199, payment_type#219, fare_amount#239, extra#259, mta_tax#279, tip_amount#299, tolls_amount#319, improvement_surcharge#339, total_amount#359, congestion_surcharge#379, airport_fee#399]\n                                             +- Project [VendorID#38, tpep_pickup_datetime#59, tpep_dropoff_datetime#79, passenger_count#99, trip_distance#119, RatecodeID#139, store_and_fwd_flag#159, PULocationID#179, DOLocationID#199, payment_type#219, fare_amount#239, extra#259, mta_tax#279, tip_amount#299, tolls_amount#319, improvement_surcharge#339, total_amount#359, congestion_surcharge#379, cast(airport_fee#18 as int) AS airport_fee#399]\n                                                +- Project [VendorID#38, tpep_pickup_datetime#59, tpep_dropoff_datetime#79, passenger_count#99, trip_distance#119, RatecodeID#139, store_and_fwd_flag#159, PULocationID#179, DOLocationID#199, payment_type#219, fare_amount#239, extra#259, mta_tax#279, tip_amount#299, tolls_amount#319, improvement_surcharge#339, total_amount#359, cast(congestion_surcharge#17 as float) AS congestion_surcharge#379, airport_fee#18]\n                                                   +- Project [VendorID#38, tpep_pickup_datetime#59, tpep_dropoff_datetime#79, passenger_count#99, trip_distance#119, RatecodeID#139, store_and_fwd_flag#159, PULocationID#179, DOLocationID#199, payment_type#219, fare_amount#239, extra#259, mta_tax#279, tip_amount#299, tolls_amount#319, improvement_surcharge#339, cast(total_amount#16 as float) AS total_amount#359, congestion_surcharge#17, airport_fee#18]\n                                                      +- Project [VendorID#38, tpep_pickup_datetime#59, tpep_dropoff_datetime#79, passenger_count#99, trip_distance#119, RatecodeID#139, store_and_fwd_flag#159, PULocationID#179, DOLocationID#199, payment_type#219, fare_amount#239, extra#259, mta_tax#279, tip_amount#299, tolls_amount#319, cast(improvement_surcharge#15 as float) AS improvement_surcharge#339, total_amount#16, congestion_surcharge#17, airport_fee#18]\n                                                         +- Project [VendorID#38, tpep_pickup_datetime#59, tpep_dropoff_datetime#79, passenger_count#99, trip_distance#119, RatecodeID#139, store_and_fwd_flag#159, PULocationID#179, DOLocationID#199, payment_type#219, fare_amount#239, extra#259, mta_tax#279, tip_amount#299, cast(tolls_amount#14 as float) AS tolls_amount#319, improvement_surcharge#15, total_amount#16, congestion_surcharge#17, airport_fee#18]\n                                                            +- Project [VendorID#38, tpep_pickup_datetime#59, tpep_dropoff_datetime#79, passenger_count#99, trip_distance#119, RatecodeID#139, store_and_fwd_flag#159, PULocationID#179, DOLocationID#199, payment_type#219, fare_amount#239, extra#259, mta_tax#279, cast(tip_amount#13 as float) AS tip_amount#299, tolls_amount#14, improvement_surcharge#15, total_amount#16, congestion_surcharge#17, airport_fee#18]\n                                                               +- Project [VendorID#38, tpep_pickup_datetime#59, tpep_dropoff_datetime#79, passenger_count#99, trip_distance#119, RatecodeID#139, store_and_fwd_flag#159, PULocationID#179, DOLocationID#199, payment_type#219, fare_amount#239, extra#259, cast(mta_tax#12 as float) AS mta_tax#279, tip_amount#13, tolls_amount#14, improvement_surcharge#15, total_amount#16, congestion_surcharge#17, airport_fee#18]\n                                                                  +- Project [VendorID#38, tpep_pickup_datetime#59, tpep_dropoff_datetime#79, passenger_count#99, trip_distance#119, RatecodeID#139, store_and_fwd_flag#159, PULocationID#179, DOLocationID#199, payment_type#219, fare_amount#239, cast(extra#11 as float) AS extra#259, mta_tax#12, tip_amount#13, tolls_amount#14, improvement_surcharge#15, total_amount#16, congestion_surcharge#17, airport_fee#18]\n                                                                     +- Project [VendorID#38, tpep_pickup_datetime#59, tpep_dropoff_datetime#79, passenger_count#99, trip_distance#119, RatecodeID#139, store_and_fwd_flag#159, PULocationID#179, DOLocationID#199, payment_type#219, cast(fare_amount#10 as float) AS fare_amount#239, extra#11, mta_tax#12, tip_amount#13, tolls_amount#14, improvement_surcharge#15, total_amount#16, congestion_surcharge#17, airport_fee#18]\n                                                                        +- Project [VendorID#38, tpep_pickup_datetime#59, tpep_dropoff_datetime#79, passenger_count#99, trip_distance#119, RatecodeID#139, store_and_fwd_flag#159, PULocationID#179, DOLocationID#199, cast(payment_type#9L as int) AS payment_type#219, fare_amount#10, extra#11, mta_tax#12, tip_amount#13, tolls_amount#14, improvement_surcharge#15, total_amount#16, congestion_surcharge#17, airport_fee#18]\n                                                                           +- Project [VendorID#38, tpep_pickup_datetime#59, tpep_dropoff_datetime#79, passenger_count#99, trip_distance#119, RatecodeID#139, store_and_fwd_flag#159, PULocationID#179, cast(DOLocationID#8L as int) AS DOLocationID#199, payment_type#9L, fare_amount#10, extra#11, mta_tax#12, tip_amount#13, tolls_amount#14, improvement_surcharge#15, total_amount#16, congestion_surcharge#17, airport_fee#18]\n                                                                              +- Project [VendorID#38, tpep_pickup_datetime#59, tpep_dropoff_datetime#79, passenger_count#99, trip_distance#119, RatecodeID#139, store_and_fwd_flag#159, cast(PULocationID#7L as int) AS PULocationID#179, DOLocationID#8L, payment_type#9L, fare_amount#10, extra#11, mta_tax#12, tip_amount#13, tolls_amount#14, improvement_surcharge#15, total_amount#16, congestion_surcharge#17, airport_fee#18]\n                                                                                 +- Project [VendorID#38, tpep_pickup_datetime#59, tpep_dropoff_datetime#79, passenger_count#99, trip_distance#119, RatecodeID#139, cast(store_and_fwd_flag#6 as string) AS store_and_fwd_flag#159, PULocationID#7L, DOLocationID#8L, payment_type#9L, fare_amount#10, extra#11, mta_tax#12, tip_amount#13, tolls_amount#14, improvement_surcharge#15, total_amount#16, congestion_surcharge#17, airport_fee#18]\n                                                                                    +- Project [VendorID#38, tpep_pickup_datetime#59, tpep_dropoff_datetime#79, passenger_count#99, trip_distance#119, cast(RatecodeID#5 as int) AS RatecodeID#139, store_and_fwd_flag#6, PULocationID#7L, DOLocationID#8L, payment_type#9L, fare_amount#10, extra#11, mta_tax#12, tip_amount#13, tolls_amount#14, improvement_surcharge#15, total_amount#16, congestion_surcharge#17, airport_fee#18]\n                                                                                       +- Project [VendorID#38, tpep_pickup_datetime#59, tpep_dropoff_datetime#79, passenger_count#99, cast(trip_distance#4 as float) AS trip_distance#119, RatecodeID#5, store_and_fwd_flag#6, PULocationID#7L, DOLocationID#8L, payment_type#9L, fare_amount#10, extra#11, mta_tax#12, tip_amount#13, tolls_amount#14, improvement_surcharge#15, total_amount#16, congestion_surcharge#17, airport_fee#18]\n                                                                                          +- Project [VendorID#38, tpep_pickup_datetime#59, tpep_dropoff_datetime#79, cast(passenger_count#3 as int) AS passenger_count#99, trip_distance#4, RatecodeID#5, store_and_fwd_flag#6, PULocationID#7L, DOLocationID#8L, payment_type#9L, fare_amount#10, extra#11, mta_tax#12, tip_amount#13, tolls_amount#14, improvement_surcharge#15, total_amount#16, congestion_surcharge#17, airport_fee#18]\n                                                                                             +- Project [VendorID#38, tpep_pickup_datetime#59, cast(tpep_dropoff_datetime#2 as timestamp_ntz) AS tpep_dropoff_datetime#79, passenger_count#3, trip_distance#4, RatecodeID#5, store_and_fwd_flag#6, PULocationID#7L, DOLocationID#8L, payment_type#9L, fare_amount#10, extra#11, mta_tax#12, tip_amount#13, tolls_amount#14, improvement_surcharge#15, total_amount#16, congestion_surcharge#17, airport_fee#18]\n                                                                                                +- Project [VendorID#38, cast(tpep_pickup_datetime#1 as timestamp_ntz) AS tpep_pickup_datetime#59, tpep_dropoff_datetime#2, passenger_count#3, trip_distance#4, RatecodeID#5, store_and_fwd_flag#6, PULocationID#7L, DOLocationID#8L, payment_type#9L, fare_amount#10, extra#11, mta_tax#12, tip_amount#13, tolls_amount#14, improvement_surcharge#15, total_amount#16, congestion_surcharge#17, airport_fee#18]\n                                                                                                   +- Project [cast(VendorID#0L as int) AS VendorID#38, tpep_pickup_datetime#1, tpep_dropoff_datetime#2, passenger_count#3, trip_distance#4, RatecodeID#5, store_and_fwd_flag#6, PULocationID#7L, DOLocationID#8L, payment_type#9L, fare_amount#10, extra#11, mta_tax#12, tip_amount#13, tolls_amount#14, improvement_surcharge#15, total_amount#16, congestion_surcharge#17, airport_fee#18]\n                                                                                                      +- Relation [VendorID#0L,tpep_pickup_datetime#1,tpep_dropoff_datetime#2,passenger_count#3,trip_distance#4,RatecodeID#5,store_and_fwd_flag#6,PULocationID#7L,DOLocationID#8L,payment_type#9L,fare_amount#10,extra#11,mta_tax#12,tip_amount#13,tolls_amount#14,improvement_surcharge#15,total_amount#16,congestion_surcharge#17,airport_fee#18] parquet\n"
     ]
    }
   ],
   "source": [
    "pickup_datetime_dim = df.select(['pickup_datetime']) \\\n",
    "    .distinct() \\\n",
    "    .withColumn('pickup_datetime_id', index_id(col('pickup_datetime'))) \\\n",
    "    .withColumn('pickup_hour', F.hour(col('pickup_datetime'))) \\\n",
    "    .withColumn('pickup_day', F.dayofmonth(col('pickup_datetime'))) \\\n",
    "    .withColumn('pickup_month', F.month(col('pickup_datetime'))) \\\n",
    "    .withColumn('pickup_year', F.year(col('pickup_datetime'))) \\\n",
    "    .withColumn('pickup_weekday', F.date_format(col('pickup_datetime'), 'EEEE'))\n",
    "\n",
    "pickup_datetime_dim = pickup_datetime_dim.select(\n",
    "    'pickup_datetime_id',\n",
    "    'pickup_datetime',\n",
    "    'pickup_hour',\n",
    "    'pickup_day',\n",
    "    'pickup_month',\n",
    "    'pickup_year',\n",
    "    'pickup_weekday'\n",
    ")"
   ]
  },
  {
   "cell_type": "code",
   "execution_count": 40,
   "id": "f7305e90-cbbb-45b9-a108-e49c11f31dce",
   "metadata": {},
   "outputs": [
    {
     "name": "stderr",
     "output_type": "stream",
     "text": [
      "                                                                                \r"
     ]
    },
    {
     "ename": "AnalysisException",
     "evalue": "[UNRESOLVED_COLUMN.WITH_SUGGESTION] A column or function parameter with name `pickup_datetime` cannot be resolved. Did you mean one of the following? [`pickup_datetime_id`, `pickup_location_id`, `dropoff_datetime_id`, `airport_fee`, `tip_amount`].;\n'Project [vendor_id#459, get_pickup_datetime_id('pickup_datetime)#1293 AS pickup_datetime_id#1294, dropoff_datetime_id#942, pickup_location_id#559, dropoff_location_id#579, ratecode_id#479, passenger_count#677, trip_distance#119, payment_type_id#499, store_and_fwd_flag#159, fare_amount#239, extra#259, mta_tax#279, tip_amount#299, tolls_amount#319, improvement_surcharge#339, congestion_surcharge#599, airport_fee#619, total_amount#359]\n+- Project [vendor_id#459, pickup_datetime_id#739, dropoff_datetime_id#942, pickup_location_id#559, dropoff_location_id#579, ratecode_id#479, passenger_count#677, trip_distance#119, payment_type_id#499, store_and_fwd_flag#159, fare_amount#239, extra#259, mta_tax#279, tip_amount#299, tolls_amount#319, improvement_surcharge#339, congestion_surcharge#599, airport_fee#619, total_amount#359]\n   +- Project [vendor_id#459, pickup_datetime#519, dropoff_datetime#539, passenger_count#677, trip_distance#119, ratecode_id#479, store_and_fwd_flag#159, pickup_location_id#559, dropoff_location_id#579, payment_type_id#499, fare_amount#239, extra#259, mta_tax#279, tip_amount#299, tolls_amount#319, improvement_surcharge#339, total_amount#359, congestion_surcharge#599, airport_fee#619, pickup_datetime_id#739, get_dropoff_datetime_id(dropoff_datetime#539)#941 AS dropoff_datetime_id#942]\n      +- Project [vendor_id#459, pickup_datetime#519, dropoff_datetime#539, passenger_count#677, trip_distance#119, ratecode_id#479, store_and_fwd_flag#159, pickup_location_id#559, dropoff_location_id#579, payment_type_id#499, fare_amount#239, extra#259, mta_tax#279, tip_amount#299, tolls_amount#319, improvement_surcharge#339, total_amount#359, congestion_surcharge#599, airport_fee#619, get_pickup_datetime_id(pickup_datetime#519)#738 AS pickup_datetime_id#739]\n         +- Project [vendor_id#459, pickup_datetime#519, dropoff_datetime#539, CASE WHEN (passenger_count#99 = 0) THEN 1.0 ELSE cast(passenger_count#99 as double) END AS passenger_count#677, trip_distance#119, ratecode_id#479, store_and_fwd_flag#159, pickup_location_id#559, dropoff_location_id#579, payment_type_id#499, fare_amount#239, extra#259, mta_tax#279, tip_amount#299, tolls_amount#319, improvement_surcharge#339, total_amount#359, congestion_surcharge#599, airport_fee#619]\n            +- Project [vendor_id#459, pickup_datetime#519, dropoff_datetime#539, passenger_count#99, trip_distance#119, ratecode_id#479, store_and_fwd_flag#159, pickup_location_id#559, dropoff_location_id#579, payment_type_id#499, fare_amount#239, extra#259, mta_tax#279, tip_amount#299, tolls_amount#319, improvement_surcharge#339, total_amount#359, congestion_surcharge#599, CASE WHEN isnull(airport_fee#399) THEN 0 ELSE airport_fee#399 END AS airport_fee#619]\n               +- Project [vendor_id#459, pickup_datetime#519, dropoff_datetime#539, passenger_count#99, trip_distance#119, ratecode_id#479, store_and_fwd_flag#159, pickup_location_id#559, dropoff_location_id#579, payment_type_id#499, fare_amount#239, extra#259, mta_tax#279, tip_amount#299, tolls_amount#319, improvement_surcharge#339, total_amount#359, CASE WHEN isnull(congestion_surcharge#379) THEN cast(0 as float) ELSE congestion_surcharge#379 END AS congestion_surcharge#599, airport_fee#399]\n                  +- Filter (ratecode_id#479 <= 6)\n                     +- Filter (((fare_amount#239 > cast(0 as float)) AND (trip_distance#119 > cast(0 as float))) AND (extra#259 > cast(0 as float)))\n                        +- Project [vendor_id#459, pickup_datetime#519, dropoff_datetime#539, passenger_count#99, trip_distance#119, ratecode_id#479, store_and_fwd_flag#159, pickup_location_id#559, DOLocationID#199 AS dropoff_location_id#579, payment_type_id#499, fare_amount#239, extra#259, mta_tax#279, tip_amount#299, tolls_amount#319, improvement_surcharge#339, total_amount#359, congestion_surcharge#379, airport_fee#399]\n                           +- Project [vendor_id#459, pickup_datetime#519, dropoff_datetime#539, passenger_count#99, trip_distance#119, ratecode_id#479, store_and_fwd_flag#159, PULocationID#179 AS pickup_location_id#559, DOLocationID#199, payment_type_id#499, fare_amount#239, extra#259, mta_tax#279, tip_amount#299, tolls_amount#319, improvement_surcharge#339, total_amount#359, congestion_surcharge#379, airport_fee#399]\n                              +- Project [vendor_id#459, pickup_datetime#519, tpep_dropoff_datetime#79 AS dropoff_datetime#539, passenger_count#99, trip_distance#119, ratecode_id#479, store_and_fwd_flag#159, PULocationID#179, DOLocationID#199, payment_type_id#499, fare_amount#239, extra#259, mta_tax#279, tip_amount#299, tolls_amount#319, improvement_surcharge#339, total_amount#359, congestion_surcharge#379, airport_fee#399]\n                                 +- Project [vendor_id#459, tpep_pickup_datetime#59 AS pickup_datetime#519, tpep_dropoff_datetime#79, passenger_count#99, trip_distance#119, ratecode_id#479, store_and_fwd_flag#159, PULocationID#179, DOLocationID#199, payment_type_id#499, fare_amount#239, extra#259, mta_tax#279, tip_amount#299, tolls_amount#319, improvement_surcharge#339, total_amount#359, congestion_surcharge#379, airport_fee#399]\n                                    +- Project [vendor_id#459, tpep_pickup_datetime#59, tpep_dropoff_datetime#79, passenger_count#99, trip_distance#119, ratecode_id#479, store_and_fwd_flag#159, PULocationID#179, DOLocationID#199, payment_type#219 AS payment_type_id#499, fare_amount#239, extra#259, mta_tax#279, tip_amount#299, tolls_amount#319, improvement_surcharge#339, total_amount#359, congestion_surcharge#379, airport_fee#399]\n                                       +- Project [vendor_id#459, tpep_pickup_datetime#59, tpep_dropoff_datetime#79, passenger_count#99, trip_distance#119, RatecodeID#139 AS ratecode_id#479, store_and_fwd_flag#159, PULocationID#179, DOLocationID#199, payment_type#219, fare_amount#239, extra#259, mta_tax#279, tip_amount#299, tolls_amount#319, improvement_surcharge#339, total_amount#359, congestion_surcharge#379, airport_fee#399]\n                                          +- Project [VendorID#38 AS vendor_id#459, tpep_pickup_datetime#59, tpep_dropoff_datetime#79, passenger_count#99, trip_distance#119, RatecodeID#139, store_and_fwd_flag#159, PULocationID#179, DOLocationID#199, payment_type#219, fare_amount#239, extra#259, mta_tax#279, tip_amount#299, tolls_amount#319, improvement_surcharge#339, total_amount#359, congestion_surcharge#379, airport_fee#399]\n                                             +- Project [VendorID#38, tpep_pickup_datetime#59, tpep_dropoff_datetime#79, passenger_count#99, trip_distance#119, RatecodeID#139, store_and_fwd_flag#159, PULocationID#179, DOLocationID#199, payment_type#219, fare_amount#239, extra#259, mta_tax#279, tip_amount#299, tolls_amount#319, improvement_surcharge#339, total_amount#359, congestion_surcharge#379, cast(airport_fee#18 as int) AS airport_fee#399]\n                                                +- Project [VendorID#38, tpep_pickup_datetime#59, tpep_dropoff_datetime#79, passenger_count#99, trip_distance#119, RatecodeID#139, store_and_fwd_flag#159, PULocationID#179, DOLocationID#199, payment_type#219, fare_amount#239, extra#259, mta_tax#279, tip_amount#299, tolls_amount#319, improvement_surcharge#339, total_amount#359, cast(congestion_surcharge#17 as float) AS congestion_surcharge#379, airport_fee#18]\n                                                   +- Project [VendorID#38, tpep_pickup_datetime#59, tpep_dropoff_datetime#79, passenger_count#99, trip_distance#119, RatecodeID#139, store_and_fwd_flag#159, PULocationID#179, DOLocationID#199, payment_type#219, fare_amount#239, extra#259, mta_tax#279, tip_amount#299, tolls_amount#319, improvement_surcharge#339, cast(total_amount#16 as float) AS total_amount#359, congestion_surcharge#17, airport_fee#18]\n                                                      +- Project [VendorID#38, tpep_pickup_datetime#59, tpep_dropoff_datetime#79, passenger_count#99, trip_distance#119, RatecodeID#139, store_and_fwd_flag#159, PULocationID#179, DOLocationID#199, payment_type#219, fare_amount#239, extra#259, mta_tax#279, tip_amount#299, tolls_amount#319, cast(improvement_surcharge#15 as float) AS improvement_surcharge#339, total_amount#16, congestion_surcharge#17, airport_fee#18]\n                                                         +- Project [VendorID#38, tpep_pickup_datetime#59, tpep_dropoff_datetime#79, passenger_count#99, trip_distance#119, RatecodeID#139, store_and_fwd_flag#159, PULocationID#179, DOLocationID#199, payment_type#219, fare_amount#239, extra#259, mta_tax#279, tip_amount#299, cast(tolls_amount#14 as float) AS tolls_amount#319, improvement_surcharge#15, total_amount#16, congestion_surcharge#17, airport_fee#18]\n                                                            +- Project [VendorID#38, tpep_pickup_datetime#59, tpep_dropoff_datetime#79, passenger_count#99, trip_distance#119, RatecodeID#139, store_and_fwd_flag#159, PULocationID#179, DOLocationID#199, payment_type#219, fare_amount#239, extra#259, mta_tax#279, cast(tip_amount#13 as float) AS tip_amount#299, tolls_amount#14, improvement_surcharge#15, total_amount#16, congestion_surcharge#17, airport_fee#18]\n                                                               +- Project [VendorID#38, tpep_pickup_datetime#59, tpep_dropoff_datetime#79, passenger_count#99, trip_distance#119, RatecodeID#139, store_and_fwd_flag#159, PULocationID#179, DOLocationID#199, payment_type#219, fare_amount#239, extra#259, cast(mta_tax#12 as float) AS mta_tax#279, tip_amount#13, tolls_amount#14, improvement_surcharge#15, total_amount#16, congestion_surcharge#17, airport_fee#18]\n                                                                  +- Project [VendorID#38, tpep_pickup_datetime#59, tpep_dropoff_datetime#79, passenger_count#99, trip_distance#119, RatecodeID#139, store_and_fwd_flag#159, PULocationID#179, DOLocationID#199, payment_type#219, fare_amount#239, cast(extra#11 as float) AS extra#259, mta_tax#12, tip_amount#13, tolls_amount#14, improvement_surcharge#15, total_amount#16, congestion_surcharge#17, airport_fee#18]\n                                                                     +- Project [VendorID#38, tpep_pickup_datetime#59, tpep_dropoff_datetime#79, passenger_count#99, trip_distance#119, RatecodeID#139, store_and_fwd_flag#159, PULocationID#179, DOLocationID#199, payment_type#219, cast(fare_amount#10 as float) AS fare_amount#239, extra#11, mta_tax#12, tip_amount#13, tolls_amount#14, improvement_surcharge#15, total_amount#16, congestion_surcharge#17, airport_fee#18]\n                                                                        +- Project [VendorID#38, tpep_pickup_datetime#59, tpep_dropoff_datetime#79, passenger_count#99, trip_distance#119, RatecodeID#139, store_and_fwd_flag#159, PULocationID#179, DOLocationID#199, cast(payment_type#9L as int) AS payment_type#219, fare_amount#10, extra#11, mta_tax#12, tip_amount#13, tolls_amount#14, improvement_surcharge#15, total_amount#16, congestion_surcharge#17, airport_fee#18]\n                                                                           +- Project [VendorID#38, tpep_pickup_datetime#59, tpep_dropoff_datetime#79, passenger_count#99, trip_distance#119, RatecodeID#139, store_and_fwd_flag#159, PULocationID#179, cast(DOLocationID#8L as int) AS DOLocationID#199, payment_type#9L, fare_amount#10, extra#11, mta_tax#12, tip_amount#13, tolls_amount#14, improvement_surcharge#15, total_amount#16, congestion_surcharge#17, airport_fee#18]\n                                                                              +- Project [VendorID#38, tpep_pickup_datetime#59, tpep_dropoff_datetime#79, passenger_count#99, trip_distance#119, RatecodeID#139, store_and_fwd_flag#159, cast(PULocationID#7L as int) AS PULocationID#179, DOLocationID#8L, payment_type#9L, fare_amount#10, extra#11, mta_tax#12, tip_amount#13, tolls_amount#14, improvement_surcharge#15, total_amount#16, congestion_surcharge#17, airport_fee#18]\n                                                                                 +- Project [VendorID#38, tpep_pickup_datetime#59, tpep_dropoff_datetime#79, passenger_count#99, trip_distance#119, RatecodeID#139, cast(store_and_fwd_flag#6 as string) AS store_and_fwd_flag#159, PULocationID#7L, DOLocationID#8L, payment_type#9L, fare_amount#10, extra#11, mta_tax#12, tip_amount#13, tolls_amount#14, improvement_surcharge#15, total_amount#16, congestion_surcharge#17, airport_fee#18]\n                                                                                    +- Project [VendorID#38, tpep_pickup_datetime#59, tpep_dropoff_datetime#79, passenger_count#99, trip_distance#119, cast(RatecodeID#5 as int) AS RatecodeID#139, store_and_fwd_flag#6, PULocationID#7L, DOLocationID#8L, payment_type#9L, fare_amount#10, extra#11, mta_tax#12, tip_amount#13, tolls_amount#14, improvement_surcharge#15, total_amount#16, congestion_surcharge#17, airport_fee#18]\n                                                                                       +- Project [VendorID#38, tpep_pickup_datetime#59, tpep_dropoff_datetime#79, passenger_count#99, cast(trip_distance#4 as float) AS trip_distance#119, RatecodeID#5, store_and_fwd_flag#6, PULocationID#7L, DOLocationID#8L, payment_type#9L, fare_amount#10, extra#11, mta_tax#12, tip_amount#13, tolls_amount#14, improvement_surcharge#15, total_amount#16, congestion_surcharge#17, airport_fee#18]\n                                                                                          +- Project [VendorID#38, tpep_pickup_datetime#59, tpep_dropoff_datetime#79, cast(passenger_count#3 as int) AS passenger_count#99, trip_distance#4, RatecodeID#5, store_and_fwd_flag#6, PULocationID#7L, DOLocationID#8L, payment_type#9L, fare_amount#10, extra#11, mta_tax#12, tip_amount#13, tolls_amount#14, improvement_surcharge#15, total_amount#16, congestion_surcharge#17, airport_fee#18]\n                                                                                             +- Project [VendorID#38, tpep_pickup_datetime#59, cast(tpep_dropoff_datetime#2 as timestamp_ntz) AS tpep_dropoff_datetime#79, passenger_count#3, trip_distance#4, RatecodeID#5, store_and_fwd_flag#6, PULocationID#7L, DOLocationID#8L, payment_type#9L, fare_amount#10, extra#11, mta_tax#12, tip_amount#13, tolls_amount#14, improvement_surcharge#15, total_amount#16, congestion_surcharge#17, airport_fee#18]\n                                                                                                +- Project [VendorID#38, cast(tpep_pickup_datetime#1 as timestamp_ntz) AS tpep_pickup_datetime#59, tpep_dropoff_datetime#2, passenger_count#3, trip_distance#4, RatecodeID#5, store_and_fwd_flag#6, PULocationID#7L, DOLocationID#8L, payment_type#9L, fare_amount#10, extra#11, mta_tax#12, tip_amount#13, tolls_amount#14, improvement_surcharge#15, total_amount#16, congestion_surcharge#17, airport_fee#18]\n                                                                                                   +- Project [cast(VendorID#0L as int) AS VendorID#38, tpep_pickup_datetime#1, tpep_dropoff_datetime#2, passenger_count#3, trip_distance#4, RatecodeID#5, store_and_fwd_flag#6, PULocationID#7L, DOLocationID#8L, payment_type#9L, fare_amount#10, extra#11, mta_tax#12, tip_amount#13, tolls_amount#14, improvement_surcharge#15, total_amount#16, congestion_surcharge#17, airport_fee#18]\n                                                                                                      +- Relation [VendorID#0L,tpep_pickup_datetime#1,tpep_dropoff_datetime#2,passenger_count#3,trip_distance#4,RatecodeID#5,store_and_fwd_flag#6,PULocationID#7L,DOLocationID#8L,payment_type#9L,fare_amount#10,extra#11,mta_tax#12,tip_amount#13,tolls_amount#14,improvement_surcharge#15,total_amount#16,congestion_surcharge#17,airport_fee#18] parquet\n",
     "output_type": "error",
     "traceback": [
      "\u001b[0;31m---------------------------------------------------------------------------\u001b[0m",
      "\u001b[0;31mAnalysisException\u001b[0m                         Traceback (most recent call last)",
      "Cell \u001b[0;32mIn[40], line 10\u001b[0m\n\u001b[1;32m      6\u001b[0m     \u001b[38;5;28;01mreturn\u001b[39;00m pickup_datetime_id_broadcast\u001b[38;5;241m.\u001b[39mvalue\u001b[38;5;241m.\u001b[39mget(date_time, \u001b[38;5;28;01mNone\u001b[39;00m)\n\u001b[1;32m      8\u001b[0m get_pickup_datetime_id_udf \u001b[38;5;241m=\u001b[39m F\u001b[38;5;241m.\u001b[39mudf(get_pickup_datetime_id, types\u001b[38;5;241m.\u001b[39mIntegerType())\n\u001b[0;32m---> 10\u001b[0m df \u001b[38;5;241m=\u001b[39m \u001b[43mdf\u001b[49m\u001b[38;5;241;43m.\u001b[39;49m\u001b[43mwithColumn\u001b[49m\u001b[43m(\u001b[49m\u001b[38;5;124;43m'\u001b[39;49m\u001b[38;5;124;43mpickup_datetime_id\u001b[39;49m\u001b[38;5;124;43m'\u001b[39;49m\u001b[43m,\u001b[49m\u001b[43m \u001b[49m\u001b[43mget_pickup_datetime_id_udf\u001b[49m\u001b[43m(\u001b[49m\u001b[38;5;124;43m'\u001b[39;49m\u001b[38;5;124;43mpickup_datetime\u001b[39;49m\u001b[38;5;124;43m'\u001b[39;49m\u001b[43m)\u001b[49m\u001b[43m)\u001b[49m\n\u001b[1;32m     12\u001b[0m pickup_datetime_id_broadcast\u001b[38;5;241m.\u001b[39munpersist()\n",
      "File \u001b[0;32m/opt/spark/python/pyspark/sql/dataframe.py:4789\u001b[0m, in \u001b[0;36mDataFrame.withColumn\u001b[0;34m(self, colName, col)\u001b[0m\n\u001b[1;32m   4784\u001b[0m \u001b[38;5;28;01mif\u001b[39;00m \u001b[38;5;129;01mnot\u001b[39;00m \u001b[38;5;28misinstance\u001b[39m(col, Column):\n\u001b[1;32m   4785\u001b[0m     \u001b[38;5;28;01mraise\u001b[39;00m PySparkTypeError(\n\u001b[1;32m   4786\u001b[0m         error_class\u001b[38;5;241m=\u001b[39m\u001b[38;5;124m\"\u001b[39m\u001b[38;5;124mNOT_COLUMN\u001b[39m\u001b[38;5;124m\"\u001b[39m,\n\u001b[1;32m   4787\u001b[0m         message_parameters\u001b[38;5;241m=\u001b[39m{\u001b[38;5;124m\"\u001b[39m\u001b[38;5;124marg_name\u001b[39m\u001b[38;5;124m\"\u001b[39m: \u001b[38;5;124m\"\u001b[39m\u001b[38;5;124mcol\u001b[39m\u001b[38;5;124m\"\u001b[39m, \u001b[38;5;124m\"\u001b[39m\u001b[38;5;124marg_type\u001b[39m\u001b[38;5;124m\"\u001b[39m: \u001b[38;5;28mtype\u001b[39m(col)\u001b[38;5;241m.\u001b[39m\u001b[38;5;18m__name__\u001b[39m},\n\u001b[1;32m   4788\u001b[0m     )\n\u001b[0;32m-> 4789\u001b[0m \u001b[38;5;28;01mreturn\u001b[39;00m DataFrame(\u001b[38;5;28;43mself\u001b[39;49m\u001b[38;5;241;43m.\u001b[39;49m\u001b[43m_jdf\u001b[49m\u001b[38;5;241;43m.\u001b[39;49m\u001b[43mwithColumn\u001b[49m\u001b[43m(\u001b[49m\u001b[43mcolName\u001b[49m\u001b[43m,\u001b[49m\u001b[43m \u001b[49m\u001b[43mcol\u001b[49m\u001b[38;5;241;43m.\u001b[39;49m\u001b[43m_jc\u001b[49m\u001b[43m)\u001b[49m, \u001b[38;5;28mself\u001b[39m\u001b[38;5;241m.\u001b[39msparkSession)\n",
      "File \u001b[0;32m/opt/spark/python/lib/py4j-0.10.9.7-src.zip/py4j/java_gateway.py:1322\u001b[0m, in \u001b[0;36mJavaMember.__call__\u001b[0;34m(self, *args)\u001b[0m\n\u001b[1;32m   1316\u001b[0m command \u001b[38;5;241m=\u001b[39m proto\u001b[38;5;241m.\u001b[39mCALL_COMMAND_NAME \u001b[38;5;241m+\u001b[39m\\\n\u001b[1;32m   1317\u001b[0m     \u001b[38;5;28mself\u001b[39m\u001b[38;5;241m.\u001b[39mcommand_header \u001b[38;5;241m+\u001b[39m\\\n\u001b[1;32m   1318\u001b[0m     args_command \u001b[38;5;241m+\u001b[39m\\\n\u001b[1;32m   1319\u001b[0m     proto\u001b[38;5;241m.\u001b[39mEND_COMMAND_PART\n\u001b[1;32m   1321\u001b[0m answer \u001b[38;5;241m=\u001b[39m \u001b[38;5;28mself\u001b[39m\u001b[38;5;241m.\u001b[39mgateway_client\u001b[38;5;241m.\u001b[39msend_command(command)\n\u001b[0;32m-> 1322\u001b[0m return_value \u001b[38;5;241m=\u001b[39m \u001b[43mget_return_value\u001b[49m\u001b[43m(\u001b[49m\n\u001b[1;32m   1323\u001b[0m \u001b[43m    \u001b[49m\u001b[43manswer\u001b[49m\u001b[43m,\u001b[49m\u001b[43m \u001b[49m\u001b[38;5;28;43mself\u001b[39;49m\u001b[38;5;241;43m.\u001b[39;49m\u001b[43mgateway_client\u001b[49m\u001b[43m,\u001b[49m\u001b[43m \u001b[49m\u001b[38;5;28;43mself\u001b[39;49m\u001b[38;5;241;43m.\u001b[39;49m\u001b[43mtarget_id\u001b[49m\u001b[43m,\u001b[49m\u001b[43m \u001b[49m\u001b[38;5;28;43mself\u001b[39;49m\u001b[38;5;241;43m.\u001b[39;49m\u001b[43mname\u001b[49m\u001b[43m)\u001b[49m\n\u001b[1;32m   1325\u001b[0m \u001b[38;5;28;01mfor\u001b[39;00m temp_arg \u001b[38;5;129;01min\u001b[39;00m temp_args:\n\u001b[1;32m   1326\u001b[0m     \u001b[38;5;28;01mif\u001b[39;00m \u001b[38;5;28mhasattr\u001b[39m(temp_arg, \u001b[38;5;124m\"\u001b[39m\u001b[38;5;124m_detach\u001b[39m\u001b[38;5;124m\"\u001b[39m):\n",
      "File \u001b[0;32m/opt/spark/python/pyspark/errors/exceptions/captured.py:175\u001b[0m, in \u001b[0;36mcapture_sql_exception.<locals>.deco\u001b[0;34m(*a, **kw)\u001b[0m\n\u001b[1;32m    171\u001b[0m converted \u001b[38;5;241m=\u001b[39m convert_exception(e\u001b[38;5;241m.\u001b[39mjava_exception)\n\u001b[1;32m    172\u001b[0m \u001b[38;5;28;01mif\u001b[39;00m \u001b[38;5;129;01mnot\u001b[39;00m \u001b[38;5;28misinstance\u001b[39m(converted, UnknownException):\n\u001b[1;32m    173\u001b[0m     \u001b[38;5;66;03m# Hide where the exception came from that shows a non-Pythonic\u001b[39;00m\n\u001b[1;32m    174\u001b[0m     \u001b[38;5;66;03m# JVM exception message.\u001b[39;00m\n\u001b[0;32m--> 175\u001b[0m     \u001b[38;5;28;01mraise\u001b[39;00m converted \u001b[38;5;28;01mfrom\u001b[39;00m \u001b[38;5;28;01mNone\u001b[39;00m\n\u001b[1;32m    176\u001b[0m \u001b[38;5;28;01melse\u001b[39;00m:\n\u001b[1;32m    177\u001b[0m     \u001b[38;5;28;01mraise\u001b[39;00m\n",
      "\u001b[0;31mAnalysisException\u001b[0m: [UNRESOLVED_COLUMN.WITH_SUGGESTION] A column or function parameter with name `pickup_datetime` cannot be resolved. Did you mean one of the following? [`pickup_datetime_id`, `pickup_location_id`, `dropoff_datetime_id`, `airport_fee`, `tip_amount`].;\n'Project [vendor_id#459, get_pickup_datetime_id('pickup_datetime)#1293 AS pickup_datetime_id#1294, dropoff_datetime_id#942, pickup_location_id#559, dropoff_location_id#579, ratecode_id#479, passenger_count#677, trip_distance#119, payment_type_id#499, store_and_fwd_flag#159, fare_amount#239, extra#259, mta_tax#279, tip_amount#299, tolls_amount#319, improvement_surcharge#339, congestion_surcharge#599, airport_fee#619, total_amount#359]\n+- Project [vendor_id#459, pickup_datetime_id#739, dropoff_datetime_id#942, pickup_location_id#559, dropoff_location_id#579, ratecode_id#479, passenger_count#677, trip_distance#119, payment_type_id#499, store_and_fwd_flag#159, fare_amount#239, extra#259, mta_tax#279, tip_amount#299, tolls_amount#319, improvement_surcharge#339, congestion_surcharge#599, airport_fee#619, total_amount#359]\n   +- Project [vendor_id#459, pickup_datetime#519, dropoff_datetime#539, passenger_count#677, trip_distance#119, ratecode_id#479, store_and_fwd_flag#159, pickup_location_id#559, dropoff_location_id#579, payment_type_id#499, fare_amount#239, extra#259, mta_tax#279, tip_amount#299, tolls_amount#319, improvement_surcharge#339, total_amount#359, congestion_surcharge#599, airport_fee#619, pickup_datetime_id#739, get_dropoff_datetime_id(dropoff_datetime#539)#941 AS dropoff_datetime_id#942]\n      +- Project [vendor_id#459, pickup_datetime#519, dropoff_datetime#539, passenger_count#677, trip_distance#119, ratecode_id#479, store_and_fwd_flag#159, pickup_location_id#559, dropoff_location_id#579, payment_type_id#499, fare_amount#239, extra#259, mta_tax#279, tip_amount#299, tolls_amount#319, improvement_surcharge#339, total_amount#359, congestion_surcharge#599, airport_fee#619, get_pickup_datetime_id(pickup_datetime#519)#738 AS pickup_datetime_id#739]\n         +- Project [vendor_id#459, pickup_datetime#519, dropoff_datetime#539, CASE WHEN (passenger_count#99 = 0) THEN 1.0 ELSE cast(passenger_count#99 as double) END AS passenger_count#677, trip_distance#119, ratecode_id#479, store_and_fwd_flag#159, pickup_location_id#559, dropoff_location_id#579, payment_type_id#499, fare_amount#239, extra#259, mta_tax#279, tip_amount#299, tolls_amount#319, improvement_surcharge#339, total_amount#359, congestion_surcharge#599, airport_fee#619]\n            +- Project [vendor_id#459, pickup_datetime#519, dropoff_datetime#539, passenger_count#99, trip_distance#119, ratecode_id#479, store_and_fwd_flag#159, pickup_location_id#559, dropoff_location_id#579, payment_type_id#499, fare_amount#239, extra#259, mta_tax#279, tip_amount#299, tolls_amount#319, improvement_surcharge#339, total_amount#359, congestion_surcharge#599, CASE WHEN isnull(airport_fee#399) THEN 0 ELSE airport_fee#399 END AS airport_fee#619]\n               +- Project [vendor_id#459, pickup_datetime#519, dropoff_datetime#539, passenger_count#99, trip_distance#119, ratecode_id#479, store_and_fwd_flag#159, pickup_location_id#559, dropoff_location_id#579, payment_type_id#499, fare_amount#239, extra#259, mta_tax#279, tip_amount#299, tolls_amount#319, improvement_surcharge#339, total_amount#359, CASE WHEN isnull(congestion_surcharge#379) THEN cast(0 as float) ELSE congestion_surcharge#379 END AS congestion_surcharge#599, airport_fee#399]\n                  +- Filter (ratecode_id#479 <= 6)\n                     +- Filter (((fare_amount#239 > cast(0 as float)) AND (trip_distance#119 > cast(0 as float))) AND (extra#259 > cast(0 as float)))\n                        +- Project [vendor_id#459, pickup_datetime#519, dropoff_datetime#539, passenger_count#99, trip_distance#119, ratecode_id#479, store_and_fwd_flag#159, pickup_location_id#559, DOLocationID#199 AS dropoff_location_id#579, payment_type_id#499, fare_amount#239, extra#259, mta_tax#279, tip_amount#299, tolls_amount#319, improvement_surcharge#339, total_amount#359, congestion_surcharge#379, airport_fee#399]\n                           +- Project [vendor_id#459, pickup_datetime#519, dropoff_datetime#539, passenger_count#99, trip_distance#119, ratecode_id#479, store_and_fwd_flag#159, PULocationID#179 AS pickup_location_id#559, DOLocationID#199, payment_type_id#499, fare_amount#239, extra#259, mta_tax#279, tip_amount#299, tolls_amount#319, improvement_surcharge#339, total_amount#359, congestion_surcharge#379, airport_fee#399]\n                              +- Project [vendor_id#459, pickup_datetime#519, tpep_dropoff_datetime#79 AS dropoff_datetime#539, passenger_count#99, trip_distance#119, ratecode_id#479, store_and_fwd_flag#159, PULocationID#179, DOLocationID#199, payment_type_id#499, fare_amount#239, extra#259, mta_tax#279, tip_amount#299, tolls_amount#319, improvement_surcharge#339, total_amount#359, congestion_surcharge#379, airport_fee#399]\n                                 +- Project [vendor_id#459, tpep_pickup_datetime#59 AS pickup_datetime#519, tpep_dropoff_datetime#79, passenger_count#99, trip_distance#119, ratecode_id#479, store_and_fwd_flag#159, PULocationID#179, DOLocationID#199, payment_type_id#499, fare_amount#239, extra#259, mta_tax#279, tip_amount#299, tolls_amount#319, improvement_surcharge#339, total_amount#359, congestion_surcharge#379, airport_fee#399]\n                                    +- Project [vendor_id#459, tpep_pickup_datetime#59, tpep_dropoff_datetime#79, passenger_count#99, trip_distance#119, ratecode_id#479, store_and_fwd_flag#159, PULocationID#179, DOLocationID#199, payment_type#219 AS payment_type_id#499, fare_amount#239, extra#259, mta_tax#279, tip_amount#299, tolls_amount#319, improvement_surcharge#339, total_amount#359, congestion_surcharge#379, airport_fee#399]\n                                       +- Project [vendor_id#459, tpep_pickup_datetime#59, tpep_dropoff_datetime#79, passenger_count#99, trip_distance#119, RatecodeID#139 AS ratecode_id#479, store_and_fwd_flag#159, PULocationID#179, DOLocationID#199, payment_type#219, fare_amount#239, extra#259, mta_tax#279, tip_amount#299, tolls_amount#319, improvement_surcharge#339, total_amount#359, congestion_surcharge#379, airport_fee#399]\n                                          +- Project [VendorID#38 AS vendor_id#459, tpep_pickup_datetime#59, tpep_dropoff_datetime#79, passenger_count#99, trip_distance#119, RatecodeID#139, store_and_fwd_flag#159, PULocationID#179, DOLocationID#199, payment_type#219, fare_amount#239, extra#259, mta_tax#279, tip_amount#299, tolls_amount#319, improvement_surcharge#339, total_amount#359, congestion_surcharge#379, airport_fee#399]\n                                             +- Project [VendorID#38, tpep_pickup_datetime#59, tpep_dropoff_datetime#79, passenger_count#99, trip_distance#119, RatecodeID#139, store_and_fwd_flag#159, PULocationID#179, DOLocationID#199, payment_type#219, fare_amount#239, extra#259, mta_tax#279, tip_amount#299, tolls_amount#319, improvement_surcharge#339, total_amount#359, congestion_surcharge#379, cast(airport_fee#18 as int) AS airport_fee#399]\n                                                +- Project [VendorID#38, tpep_pickup_datetime#59, tpep_dropoff_datetime#79, passenger_count#99, trip_distance#119, RatecodeID#139, store_and_fwd_flag#159, PULocationID#179, DOLocationID#199, payment_type#219, fare_amount#239, extra#259, mta_tax#279, tip_amount#299, tolls_amount#319, improvement_surcharge#339, total_amount#359, cast(congestion_surcharge#17 as float) AS congestion_surcharge#379, airport_fee#18]\n                                                   +- Project [VendorID#38, tpep_pickup_datetime#59, tpep_dropoff_datetime#79, passenger_count#99, trip_distance#119, RatecodeID#139, store_and_fwd_flag#159, PULocationID#179, DOLocationID#199, payment_type#219, fare_amount#239, extra#259, mta_tax#279, tip_amount#299, tolls_amount#319, improvement_surcharge#339, cast(total_amount#16 as float) AS total_amount#359, congestion_surcharge#17, airport_fee#18]\n                                                      +- Project [VendorID#38, tpep_pickup_datetime#59, tpep_dropoff_datetime#79, passenger_count#99, trip_distance#119, RatecodeID#139, store_and_fwd_flag#159, PULocationID#179, DOLocationID#199, payment_type#219, fare_amount#239, extra#259, mta_tax#279, tip_amount#299, tolls_amount#319, cast(improvement_surcharge#15 as float) AS improvement_surcharge#339, total_amount#16, congestion_surcharge#17, airport_fee#18]\n                                                         +- Project [VendorID#38, tpep_pickup_datetime#59, tpep_dropoff_datetime#79, passenger_count#99, trip_distance#119, RatecodeID#139, store_and_fwd_flag#159, PULocationID#179, DOLocationID#199, payment_type#219, fare_amount#239, extra#259, mta_tax#279, tip_amount#299, cast(tolls_amount#14 as float) AS tolls_amount#319, improvement_surcharge#15, total_amount#16, congestion_surcharge#17, airport_fee#18]\n                                                            +- Project [VendorID#38, tpep_pickup_datetime#59, tpep_dropoff_datetime#79, passenger_count#99, trip_distance#119, RatecodeID#139, store_and_fwd_flag#159, PULocationID#179, DOLocationID#199, payment_type#219, fare_amount#239, extra#259, mta_tax#279, cast(tip_amount#13 as float) AS tip_amount#299, tolls_amount#14, improvement_surcharge#15, total_amount#16, congestion_surcharge#17, airport_fee#18]\n                                                               +- Project [VendorID#38, tpep_pickup_datetime#59, tpep_dropoff_datetime#79, passenger_count#99, trip_distance#119, RatecodeID#139, store_and_fwd_flag#159, PULocationID#179, DOLocationID#199, payment_type#219, fare_amount#239, extra#259, cast(mta_tax#12 as float) AS mta_tax#279, tip_amount#13, tolls_amount#14, improvement_surcharge#15, total_amount#16, congestion_surcharge#17, airport_fee#18]\n                                                                  +- Project [VendorID#38, tpep_pickup_datetime#59, tpep_dropoff_datetime#79, passenger_count#99, trip_distance#119, RatecodeID#139, store_and_fwd_flag#159, PULocationID#179, DOLocationID#199, payment_type#219, fare_amount#239, cast(extra#11 as float) AS extra#259, mta_tax#12, tip_amount#13, tolls_amount#14, improvement_surcharge#15, total_amount#16, congestion_surcharge#17, airport_fee#18]\n                                                                     +- Project [VendorID#38, tpep_pickup_datetime#59, tpep_dropoff_datetime#79, passenger_count#99, trip_distance#119, RatecodeID#139, store_and_fwd_flag#159, PULocationID#179, DOLocationID#199, payment_type#219, cast(fare_amount#10 as float) AS fare_amount#239, extra#11, mta_tax#12, tip_amount#13, tolls_amount#14, improvement_surcharge#15, total_amount#16, congestion_surcharge#17, airport_fee#18]\n                                                                        +- Project [VendorID#38, tpep_pickup_datetime#59, tpep_dropoff_datetime#79, passenger_count#99, trip_distance#119, RatecodeID#139, store_and_fwd_flag#159, PULocationID#179, DOLocationID#199, cast(payment_type#9L as int) AS payment_type#219, fare_amount#10, extra#11, mta_tax#12, tip_amount#13, tolls_amount#14, improvement_surcharge#15, total_amount#16, congestion_surcharge#17, airport_fee#18]\n                                                                           +- Project [VendorID#38, tpep_pickup_datetime#59, tpep_dropoff_datetime#79, passenger_count#99, trip_distance#119, RatecodeID#139, store_and_fwd_flag#159, PULocationID#179, cast(DOLocationID#8L as int) AS DOLocationID#199, payment_type#9L, fare_amount#10, extra#11, mta_tax#12, tip_amount#13, tolls_amount#14, improvement_surcharge#15, total_amount#16, congestion_surcharge#17, airport_fee#18]\n                                                                              +- Project [VendorID#38, tpep_pickup_datetime#59, tpep_dropoff_datetime#79, passenger_count#99, trip_distance#119, RatecodeID#139, store_and_fwd_flag#159, cast(PULocationID#7L as int) AS PULocationID#179, DOLocationID#8L, payment_type#9L, fare_amount#10, extra#11, mta_tax#12, tip_amount#13, tolls_amount#14, improvement_surcharge#15, total_amount#16, congestion_surcharge#17, airport_fee#18]\n                                                                                 +- Project [VendorID#38, tpep_pickup_datetime#59, tpep_dropoff_datetime#79, passenger_count#99, trip_distance#119, RatecodeID#139, cast(store_and_fwd_flag#6 as string) AS store_and_fwd_flag#159, PULocationID#7L, DOLocationID#8L, payment_type#9L, fare_amount#10, extra#11, mta_tax#12, tip_amount#13, tolls_amount#14, improvement_surcharge#15, total_amount#16, congestion_surcharge#17, airport_fee#18]\n                                                                                    +- Project [VendorID#38, tpep_pickup_datetime#59, tpep_dropoff_datetime#79, passenger_count#99, trip_distance#119, cast(RatecodeID#5 as int) AS RatecodeID#139, store_and_fwd_flag#6, PULocationID#7L, DOLocationID#8L, payment_type#9L, fare_amount#10, extra#11, mta_tax#12, tip_amount#13, tolls_amount#14, improvement_surcharge#15, total_amount#16, congestion_surcharge#17, airport_fee#18]\n                                                                                       +- Project [VendorID#38, tpep_pickup_datetime#59, tpep_dropoff_datetime#79, passenger_count#99, cast(trip_distance#4 as float) AS trip_distance#119, RatecodeID#5, store_and_fwd_flag#6, PULocationID#7L, DOLocationID#8L, payment_type#9L, fare_amount#10, extra#11, mta_tax#12, tip_amount#13, tolls_amount#14, improvement_surcharge#15, total_amount#16, congestion_surcharge#17, airport_fee#18]\n                                                                                          +- Project [VendorID#38, tpep_pickup_datetime#59, tpep_dropoff_datetime#79, cast(passenger_count#3 as int) AS passenger_count#99, trip_distance#4, RatecodeID#5, store_and_fwd_flag#6, PULocationID#7L, DOLocationID#8L, payment_type#9L, fare_amount#10, extra#11, mta_tax#12, tip_amount#13, tolls_amount#14, improvement_surcharge#15, total_amount#16, congestion_surcharge#17, airport_fee#18]\n                                                                                             +- Project [VendorID#38, tpep_pickup_datetime#59, cast(tpep_dropoff_datetime#2 as timestamp_ntz) AS tpep_dropoff_datetime#79, passenger_count#3, trip_distance#4, RatecodeID#5, store_and_fwd_flag#6, PULocationID#7L, DOLocationID#8L, payment_type#9L, fare_amount#10, extra#11, mta_tax#12, tip_amount#13, tolls_amount#14, improvement_surcharge#15, total_amount#16, congestion_surcharge#17, airport_fee#18]\n                                                                                                +- Project [VendorID#38, cast(tpep_pickup_datetime#1 as timestamp_ntz) AS tpep_pickup_datetime#59, tpep_dropoff_datetime#2, passenger_count#3, trip_distance#4, RatecodeID#5, store_and_fwd_flag#6, PULocationID#7L, DOLocationID#8L, payment_type#9L, fare_amount#10, extra#11, mta_tax#12, tip_amount#13, tolls_amount#14, improvement_surcharge#15, total_amount#16, congestion_surcharge#17, airport_fee#18]\n                                                                                                   +- Project [cast(VendorID#0L as int) AS VendorID#38, tpep_pickup_datetime#1, tpep_dropoff_datetime#2, passenger_count#3, trip_distance#4, RatecodeID#5, store_and_fwd_flag#6, PULocationID#7L, DOLocationID#8L, payment_type#9L, fare_amount#10, extra#11, mta_tax#12, tip_amount#13, tolls_amount#14, improvement_surcharge#15, total_amount#16, congestion_surcharge#17, airport_fee#18]\n                                                                                                      +- Relation [VendorID#0L,tpep_pickup_datetime#1,tpep_dropoff_datetime#2,passenger_count#3,trip_distance#4,RatecodeID#5,store_and_fwd_flag#6,PULocationID#7L,DOLocationID#8L,payment_type#9L,fare_amount#10,extra#11,mta_tax#12,tip_amount#13,tolls_amount#14,improvement_surcharge#15,total_amount#16,congestion_surcharge#17,airport_fee#18] parquet\n"
     ]
    }
   ],
   "source": [
    "pickup_datetime_id_dict = {row['pickup_datetime']: row['pickup_datetime_id'] for row in pickup_datetime_dim.collect()} \n",
    "\n",
    "pickup_datetime_id_broadcast = sc.broadcast(pickup_datetime_id_dict)\n",
    "\n",
    "def get_pickup_datetime_id(date_time):\n",
    "    return pickup_datetime_id_broadcast.value.get(date_time, None)\n",
    "\n",
    "get_pickup_datetime_id_udf = F.udf(get_pickup_datetime_id, types.IntegerType())\n",
    "\n",
    "df = df.withColumn('pickup_datetime_id', get_pickup_datetime_id_udf('pickup_datetime'))\n",
    "\n",
    "pickup_datetime_id_broadcast.unpersist()"
   ]
  },
  {
   "cell_type": "code",
   "execution_count": null,
   "id": "0484d166-7561-4c65-8333-1c661841e0e5",
   "metadata": {},
   "outputs": [],
   "source": [
    "dropoff_datetime_dim = df.select(['dropoff_datetime']) \\\n",
    "    .distinct() \\\n",
    "    .withColumn('dropoff_datetime_id', index_id(col('dropoff_datetime'))) \\\n",
    "    .withColumn('dropoff_hour', F.hour(col('dropoff_datetime'))) \\\n",
    "    .withColumn('dropoff_day', F.dayofmonth(col('dropoff_datetime'))) \\\n",
    "    .withColumn('dropoff_month', F.month(col('dropoff_datetime'))) \\\n",
    "    .withColumn('dropoff_year', F.year(col('dropoff_datetime'))) \\\n",
    "    .withColumn('dropoff_weekday', F.date_format(col('dropoff_datetime'), 'EEEE'))\n",
    "\n",
    "dropoff_datetime_dim = dropoff_datetime_dim.select(\n",
    "    'dropoff_datetime_id',\n",
    "    'dropoff_datetime',\n",
    "    'dropoff_hour',\n",
    "    'dropoff_day',\n",
    "    'dropoff_month',\n",
    "    'dropoff_year',\n",
    "    'dropoff_weekday'\n",
    ")"
   ]
  },
  {
   "cell_type": "code",
   "execution_count": 19,
   "id": "04e810f4-0b1d-4a7f-a120-22dda76f64bc",
   "metadata": {},
   "outputs": [
    {
     "name": "stderr",
     "output_type": "stream",
     "text": [
      "                                                                                \r"
     ]
    }
   ],
   "source": [
    "dropoff_datetime_id_dict = {row['dropoff_datetime']: row['dropoff_datetime_id'] for row in dropoff_datetime_dim.collect()} \n",
    "\n",
    "dropoff_datetime_id_broadcast = sc.broadcast(dropoff_datetime_id_dict)\n",
    "\n",
    "def get_dropoff_datetime_id(date_time):\n",
    "    return dropoff_datetime_id_broadcast.value.get(date_time, None)\n",
    "\n",
    "get_dropoff_datetime_id_udf = F.udf(get_dropoff_datetime_id, types.IntegerType())\n",
    "\n",
    "df = df.withColumn('dropoff_datetime_id', get_dropoff_datetime_id_udf(col('dropoff_datetime')))\n",
    "\n",
    "dropoff_datetime_id_broadcast.unpersist()"
   ]
  },
  {
   "cell_type": "code",
   "execution_count": 20,
   "id": "43c66ecc-8eb5-4eb1-a67e-c7b09b5b2a23",
   "metadata": {},
   "outputs": [],
   "source": [
    "df = df.select(['vendor_id',\n",
    " 'pickup_datetime_id',\n",
    " 'dropoff_datetime_id',\n",
    " 'pickup_location_id',\n",
    " 'dropoff_location_id',\n",
    " 'ratecode_id',\n",
    " 'passenger_count',\n",
    " 'trip_distance',\n",
    " 'payment_type_id',\n",
    " 'store_and_fwd_flag',\n",
    " 'fare_amount',\n",
    " 'extra',\n",
    " 'mta_tax',\n",
    " 'tip_amount',\n",
    " 'tolls_amount',\n",
    " 'improvement_surcharge',\n",
    " 'congestion_surcharge',\n",
    " 'airport_fee',\n",
    " 'total_amount'])"
   ]
  },
  {
   "cell_type": "code",
   "execution_count": 36,
   "id": "659e9fd1-80ff-4912-a054-f5e1f8ea839d",
   "metadata": {},
   "outputs": [
    {
     "name": "stderr",
     "output_type": "stream",
     "text": [
      "[Stage 37:==================================================>       (7 + 1) / 8]\r"
     ]
    },
    {
     "name": "stdout",
     "output_type": "stream",
     "text": [
      "+-------------------+-------------------+------------+-----------+-------------+------------+---------------+--------------+\n",
      "|dropoff_datetime_id|   dropoff_datetime|dropoff_hour|dropoff_day|dropoff_month|dropoff_year|dropoff_weekday|        new_id|\n",
      "+-------------------+-------------------+------------+-----------+-------------+------------+---------------+--------------+\n",
      "|                  0|2019-01-01 01:02:07|           1|          1|            1|        2019|        Tuesday|20190101010207|\n",
      "|                  1|2019-01-01 01:10:23|           1|          1|            1|        2019|        Tuesday|20190101011023|\n",
      "|                  2|2019-01-01 01:18:53|           1|          1|            1|        2019|        Tuesday|20190101011853|\n",
      "|                  3|2019-01-01 00:44:09|           0|          1|            1|        2019|        Tuesday|20190101004409|\n",
      "|                  4|2019-01-01 00:47:14|           0|          1|            1|        2019|        Tuesday|20190101004714|\n",
      "|                  5|2019-01-01 00:33:09|           0|          1|            1|        2019|        Tuesday|20190101003309|\n",
      "|                  6|2019-01-01 00:32:42|           0|          1|            1|        2019|        Tuesday|20190101003242|\n",
      "|                  7|2019-01-01 00:25:11|           0|          1|            1|        2019|        Tuesday|20190101002511|\n",
      "|                  8|2019-01-01 00:21:56|           0|          1|            1|        2019|        Tuesday|20190101002156|\n",
      "|                  9|2019-01-01 01:17:34|           1|          1|            1|        2019|        Tuesday|20190101011734|\n",
      "|                 10|2019-01-01 00:35:32|           0|          1|            1|        2019|        Tuesday|20190101003532|\n",
      "|                 11|2019-01-01 01:13:51|           1|          1|            1|        2019|        Tuesday|20190101011351|\n",
      "|                 12|2019-01-01 00:47:24|           0|          1|            1|        2019|        Tuesday|20190101004724|\n",
      "|                 13|2019-01-01 00:12:55|           0|          1|            1|        2019|        Tuesday|20190101001255|\n",
      "|                 14|2019-01-01 01:07:23|           1|          1|            1|        2019|        Tuesday|20190101010723|\n",
      "|                 15|2019-01-01 01:03:56|           1|          1|            1|        2019|        Tuesday|20190101010356|\n",
      "|                 16|2019-01-01 00:53:08|           0|          1|            1|        2019|        Tuesday|20190101005308|\n",
      "|                 17|2019-01-01 00:22:30|           0|          1|            1|        2019|        Tuesday|20190101002230|\n",
      "|                 18|2019-01-01 02:16:12|           2|          1|            1|        2019|        Tuesday|20190101021612|\n",
      "|                 19|2019-01-01 01:37:19|           1|          1|            1|        2019|        Tuesday|20190101013719|\n",
      "+-------------------+-------------------+------------+-----------+-------------+------------+---------------+--------------+\n",
      "only showing top 20 rows\n",
      "\n"
     ]
    },
    {
     "name": "stderr",
     "output_type": "stream",
     "text": [
      "                                                                                \r"
     ]
    }
   ],
   "source": [
    "\n",
    "\n",
    "dropoff_datetime_dim = dropoff_datetime_dim.withColumn('new_id', new_func(F.col('dropoff_datetime')))"
   ]
  },
  {
   "cell_type": "code",
   "execution_count": null,
   "id": "115132b4-0e9f-4780-8f70-b7a994fef492",
   "metadata": {},
   "outputs": [],
   "source": []
  },
  {
   "cell_type": "code",
   "execution_count": null,
   "id": "9d86a1dc-bb29-4587-b0ce-489bf5f4983f",
   "metadata": {},
   "outputs": [],
   "source": []
  }
 ],
 "metadata": {
  "kernelspec": {
   "display_name": "Python 3 (ipykernel)",
   "language": "python",
   "name": "python3"
  },
  "language_info": {
   "codemirror_mode": {
    "name": "ipython",
    "version": 3
   },
   "file_extension": ".py",
   "mimetype": "text/x-python",
   "name": "python",
   "nbconvert_exporter": "python",
   "pygments_lexer": "ipython3",
   "version": "3.10.6"
  }
 },
 "nbformat": 4,
 "nbformat_minor": 5
}
