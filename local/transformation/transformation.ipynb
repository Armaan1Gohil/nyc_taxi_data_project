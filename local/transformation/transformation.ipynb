{
 "cells": [
  {
   "cell_type": "code",
   "execution_count": 1,
   "id": "e5fee2b7-2e20-4971-ab1c-0398ad9f4cd4",
   "metadata": {},
   "outputs": [],
   "source": [
    "from pyspark.sql import SparkSession, Window\n",
    "from pyspark.sql import types\n",
    "from pyspark.sql import functions as F\n",
    "from pyspark.sql.functions import col\n",
    "from pyspark.sql.window import Window\n",
    "import os\n",
    "import sys"
   ]
  },
  {
   "cell_type": "code",
   "execution_count": 2,
   "id": "986e8379-26b8-473f-881d-24ddff425678",
   "metadata": {},
   "outputs": [],
   "source": [
    "year = sys.argv[1]\n",
    "month = sys.argv[2]"
   ]
  },
  {
   "cell_type": "code",
   "execution_count": 10,
   "id": "ca077e71-5b78-48a1-ba2b-02b074b8e3e3",
   "metadata": {},
   "outputs": [],
   "source": [
    "minio_access_key = os.getenv('MINIO_ROOT_USER')\n",
    "minio_secret_key = os.getenv('MINIO_ROOT_PASSWORD')\n",
    "s3_path = 's3a://data/'"
   ]
  },
  {
   "cell_type": "code",
   "execution_count": 5,
   "id": "ff620977-e0a2-4e99-bf5f-5798da462433",
   "metadata": {
    "scrolled": true
   },
   "outputs": [
    {
     "name": "stderr",
     "output_type": "stream",
     "text": [
      "Setting default log level to \"WARN\".\n",
      "To adjust logging level use sc.setLogLevel(newLevel). For SparkR, use setLogLevel(newLevel).\n",
      "24/09/17 17:47:55 WARN NativeCodeLoader: Unable to load native-hadoop library for your platform... using builtin-java classes where applicable\n"
     ]
    }
   ],
   "source": [
    "spark = SparkSession.builder \\\n",
    "    .master('local[*]') \\\n",
    "    .appName('data_transformation') \\\n",
    "    .config(\"spark.hadoop.fs.s3a.access.key\", minio_access_key) \\\n",
    "    .config(\"spark.hadoop.fs.s3a.secret.key\", minio_secret_key) \\\n",
    "    .getOrCreate()\n",
    "\n",
    "sc = spark.sparkContext"
   ]
  },
  {
   "cell_type": "code",
   "execution_count": 6,
   "id": "a226243b-6d92-4e9e-9212-c3136a5c5e35",
   "metadata": {},
   "outputs": [],
   "source": [
    "new_schema = types.StructType([\n",
    "    types.StructField('VendorID', types.IntegerType(), True), \n",
    "    types.StructField('tpep_pickup_datetime', types.TimestampNTZType(), True), \n",
    "    types.StructField('tpep_dropoff_datetime', types.TimestampNTZType(), True), \n",
    "    types.StructField('passenger_count', types.IntegerType(), True), \n",
    "    types.StructField('trip_distance', types.FloatType(), True), \n",
    "    types.StructField('RatecodeID', types.IntegerType(), True), \n",
    "    types.StructField('store_and_fwd_flag', types.StringType(), True), \n",
    "    types.StructField('PULocationID', types.IntegerType(), True), \n",
    "    types.StructField('DOLocationID', types.IntegerType(), True), \n",
    "    types.StructField('payment_type', types.IntegerType(), True), \n",
    "    types.StructField('fare_amount', types.FloatType(), True), \n",
    "    types.StructField('extra', types.FloatType(), True), \n",
    "    types.StructField('mta_tax', types.FloatType(), True), \n",
    "    types.StructField('tip_amount', types.FloatType(), True), \n",
    "    types.StructField('tolls_amount', types.FloatType(), True), \n",
    "    types.StructField('improvement_surcharge', types.FloatType(), True), \n",
    "    types.StructField('total_amount', types.FloatType(), True), \n",
    "    types.StructField('congestion_surcharge', types.FloatType(), True), \n",
    "    types.StructField('airport_fee', types.IntegerType(), True)])"
   ]
  },
  {
   "cell_type": "code",
   "execution_count": 11,
   "id": "481f32e2-722e-4f62-a49b-9afb884f3a65",
   "metadata": {},
   "outputs": [
    {
     "name": "stderr",
     "output_type": "stream",
     "text": [
      "24/09/17 17:48:42 WARN MetricsConfig: Cannot locate configuration: tried hadoop-metrics2-s3a-file-system.properties,hadoop-metrics2.properties\n",
      "                                                                                \r"
     ]
    }
   ],
   "source": [
    "df = spark.read.option('headers', True).parquet(f'{s3_path}/2024/01/*.parquet')"
   ]
  },
  {
   "cell_type": "code",
   "execution_count": 12,
   "id": "056b1c29-58e3-4173-80cb-a2f891013539",
   "metadata": {},
   "outputs": [],
   "source": [
    "old_schema = df.schema"
   ]
  },
  {
   "cell_type": "code",
   "execution_count": 13,
   "id": "de8becd5-bf83-4106-bb2e-f697aa549c74",
   "metadata": {
    "scrolled": true
   },
   "outputs": [],
   "source": [
    "for old_field, new_field in zip(old_schema.fields, new_schema.fields):\n",
    "    df = df.withColumn(new_field.name, col(old_field.name).cast(new_field.dataType))"
   ]
  },
  {
   "cell_type": "code",
   "execution_count": 14,
   "id": "ef0183e8-6fdf-46b7-94c6-debcd6fd3adb",
   "metadata": {},
   "outputs": [],
   "source": [
    "df = df.withColumnRenamed('VendorID', 'vendor_id') \\\n",
    "    .withColumnRenamed('RatecodeID', 'ratecode_id') \\\n",
    "    .withColumnRenamed('payment_type', 'payment_type_id') \\\n",
    "    .withColumnRenamed('tpep_pickup_datetime', 'pickup_datetime') \\\n",
    "    .withColumnRenamed('tpep_dropoff_datetime', 'dropoff_datetime') \\\n",
    "    .withColumnRenamed('PULocationID', 'pickup_location_id') \\\n",
    "    .withColumnRenamed('DOLocationID', 'dropoff_location_id')"
   ]
  },
  {
   "cell_type": "code",
   "execution_count": 15,
   "id": "00275fbd-a65d-459c-b975-1e1bbdeb77fd",
   "metadata": {
    "scrolled": true
   },
   "outputs": [],
   "source": [
    "df = df.filter((col('fare_amount') > 0) \\\n",
    "               & (col('trip_distance') > 0) \\\n",
    "               & (col('extra') > 0))\n",
    "\n",
    "df = df.filter((col('ratecode_id') <= 6))\n",
    "\n",
    "df = df.withColumn('congestion_surcharge', F.when(col('congestion_surcharge').isNull(), 0).otherwise(col('congestion_surcharge')))\n",
    "df = df.withColumn('airport_fee', F.when(col('airport_fee').isNull(), 0).otherwise(col('airport_fee')))"
   ]
  },
  {
   "cell_type": "code",
   "execution_count": 16,
   "id": "4b89f317-1f19-47f3-9098-69bfed75cb1e",
   "metadata": {},
   "outputs": [
    {
     "name": "stderr",
     "output_type": "stream",
     "text": [
      "24/09/17 17:48:55 WARN WindowExec: No Partition Defined for Window operation! Moving all data to a single partition, this can cause serious performance degradation.\n",
      "24/09/17 17:48:55 WARN WindowExec: No Partition Defined for Window operation! Moving all data to a single partition, this can cause serious performance degradation.\n",
      "24/09/17 17:48:56 WARN WindowExec: No Partition Defined for Window operation! Moving all data to a single partition, this can cause serious performance degradation.\n",
      "24/09/17 17:48:56 WARN WindowExec: No Partition Defined for Window operation! Moving all data to a single partition, this can cause serious performance degradation.\n",
      "                                                                                \r"
     ]
    }
   ],
   "source": [
    "window_spec = Window.orderBy('passenger_count')\n",
    "\n",
    "df_rn = df.select(['passenger_count']).withColumn('rn', F.row_number().over(window_spec))\n",
    "total_rows = df.count()\n",
    "                                                         \n",
    "if total_rows % 2 == 0:\n",
    "    lower_mid = total_rows // 2\n",
    "    upper_mid = lower_mid + 1\n",
    "else:\n",
    "    lower_mid = total_rows // 2 + 1\n",
    "    upper_mid = lower_mid\n",
    "\n",
    "median_df = df_rn.filter((col('rn') == lower_mid) | (col('rn') == upper_mid))\n",
    "\n",
    "median_value = median_df.agg(F.avg(col('passenger_count'))).collect()[0][0]\n",
    "\n",
    "df = df.withColumn('passenger_count', F.when(col('passenger_count') == 0, median_value).otherwise(col('passenger_count')))"
   ]
  },
  {
   "cell_type": "code",
   "execution_count": 17,
   "id": "d686f27e-c657-462e-ac2c-6eceef3ca5b9",
   "metadata": {},
   "outputs": [],
   "source": [
    "def index_id(date_column):\n",
    "    year = F.year(date_column)\n",
    "    month = F.lpad(F.month(date_column).cast(\"string\"), 2, \"0\")\n",
    "    day = F.lpad(F.dayofmonth(date_column).cast(\"string\"), 2, \"0\")\n",
    "    hour = F.lpad(F.hour(date_column).cast(\"string\"), 2, \"0\")\n",
    "    minute = F.lpad(F.minute(date_column).cast(\"string\"), 2, \"0\")\n",
    "    second = F.lpad(F.second(date_column).cast(\"string\"), 2, \"0\")\n",
    "    index = F.concat(year, month, day, hour, minute, second)\n",
    "    return index"
   ]
  },
  {
   "cell_type": "code",
   "execution_count": 18,
   "id": "395859b3-d247-4aac-8de8-c8123540e9e6",
   "metadata": {},
   "outputs": [],
   "source": [
    "pickup_datetime_dim = df.select(['pickup_datetime']) \\\n",
    "    .distinct() \\\n",
    "    .withColumn('pickup_datetime_id', index_id(col('pickup_datetime'))) \\\n",
    "    .withColumn('pickup_hour', F.hour(col('pickup_datetime'))) \\\n",
    "    .withColumn('pickup_day', F.dayofmonth(col('pickup_datetime'))) \\\n",
    "    .withColumn('pickup_month', F.month(col('pickup_datetime'))) \\\n",
    "    .withColumn('pickup_year', F.year(col('pickup_datetime'))) \\\n",
    "    .withColumn('pickup_weekday', F.date_format(col('pickup_datetime'), 'EEEE'))\n",
    "\n",
    "pickup_datetime_dim = pickup_datetime_dim.select(\n",
    "    'pickup_datetime_id',\n",
    "    'pickup_datetime',\n",
    "    'pickup_hour',\n",
    "    'pickup_day',\n",
    "    'pickup_month',\n",
    "    'pickup_year',\n",
    "    'pickup_weekday'\n",
    ")"
   ]
  },
  {
   "cell_type": "code",
   "execution_count": 19,
   "id": "0484d166-7561-4c65-8333-1c661841e0e5",
   "metadata": {},
   "outputs": [],
   "source": [
    "dropoff_datetime_dim = df.select(['dropoff_datetime']) \\\n",
    "    .distinct() \\\n",
    "    .withColumn('dropoff_datetime_id', index_id(col('dropoff_datetime'))) \\\n",
    "    .withColumn('dropoff_hour', F.hour(col('dropoff_datetime'))) \\\n",
    "    .withColumn('dropoff_day', F.dayofmonth(col('dropoff_datetime'))) \\\n",
    "    .withColumn('dropoff_month', F.month(col('dropoff_datetime'))) \\\n",
    "    .withColumn('dropoff_year', F.year(col('dropoff_datetime'))) \\\n",
    "    .withColumn('dropoff_weekday', F.date_format(col('dropoff_datetime'), 'EEEE'))\n",
    "\n",
    "dropoff_datetime_dim = dropoff_datetime_dim.select(\n",
    "    'dropoff_datetime_id',\n",
    "    'dropoff_datetime',\n",
    "    'dropoff_hour',\n",
    "    'dropoff_day',\n",
    "    'dropoff_month',\n",
    "    'dropoff_year',\n",
    "    'dropoff_weekday'\n",
    ")"
   ]
  },
  {
   "cell_type": "code",
   "execution_count": 20,
   "id": "04e810f4-0b1d-4a7f-a120-22dda76f64bc",
   "metadata": {},
   "outputs": [],
   "source": [
    "df = df.withColumn('dropoff_datetime_id', index_id(col('dropoff_datetime'))) \\\n",
    "    .withColumn('pickup_datetime_id', index_id(col('pickup_datetime')))"
   ]
  },
  {
   "cell_type": "code",
   "execution_count": 21,
   "id": "43c66ecc-8eb5-4eb1-a67e-c7b09b5b2a23",
   "metadata": {},
   "outputs": [],
   "source": [
    "df = df.select(['vendor_id',\n",
    " 'pickup_datetime_id',\n",
    " 'dropoff_datetime_id',\n",
    " 'pickup_location_id',\n",
    " 'dropoff_location_id',\n",
    " 'ratecode_id',\n",
    " 'passenger_count',\n",
    " 'trip_distance',\n",
    " 'payment_type_id',\n",
    " 'store_and_fwd_flag',\n",
    " 'fare_amount',\n",
    " 'extra',\n",
    " 'mta_tax',\n",
    " 'tip_amount',\n",
    " 'tolls_amount',\n",
    " 'improvement_surcharge',\n",
    " 'congestion_surcharge',\n",
    " 'airport_fee',\n",
    " 'total_amount'])"
   ]
  },
  {
   "cell_type": "code",
   "execution_count": 22,
   "id": "659e9fd1-80ff-4912-a054-f5e1f8ea839d",
   "metadata": {},
   "outputs": [
    {
     "name": "stdout",
     "output_type": "stream",
     "text": [
      "+---------+------------------+-------------------+------------------+-------------------+-----------+---------------+-------------+---------------+------------------+-----------+-----+-------+----------+------------+---------------------+--------------------+-----------+------------+\n",
      "|vendor_id|pickup_datetime_id|dropoff_datetime_id|pickup_location_id|dropoff_location_id|ratecode_id|passenger_count|trip_distance|payment_type_id|store_and_fwd_flag|fare_amount|extra|mta_tax|tip_amount|tolls_amount|improvement_surcharge|congestion_surcharge|airport_fee|total_amount|\n",
      "+---------+------------------+-------------------+------------------+-------------------+-----------+---------------+-------------+---------------+------------------+-----------+-----+-------+----------+------------+---------------------+--------------------+-----------+------------+\n",
      "|        2|    20240101005755|     20240101011743|               186|                 79|          1|            1.0|         1.72|              2|                 N|       17.7|  1.0|    0.5|       0.0|         0.0|                  1.0|                 2.5|          0|        22.7|\n",
      "|        1|    20240101000300|     20240101000936|               140|                236|          1|            1.0|          1.8|              1|                 N|       10.0|  3.5|    0.5|      3.75|         0.0|                  1.0|                 2.5|          0|       18.75|\n",
      "|        1|    20240101001706|     20240101003501|               236|                 79|          1|            1.0|          4.7|              1|                 N|       23.3|  3.5|    0.5|       3.0|         0.0|                  1.0|                 2.5|          0|        31.3|\n",
      "|        1|    20240101003638|     20240101004456|                79|                211|          1|            1.0|          1.4|              1|                 N|       10.0|  3.5|    0.5|       2.0|         0.0|                  1.0|                 2.5|          0|        17.0|\n",
      "|        1|    20240101004651|     20240101005257|               211|                148|          1|            1.0|          0.8|              1|                 N|        7.9|  3.5|    0.5|       3.2|         0.0|                  1.0|                 2.5|          0|        16.1|\n",
      "|        1|    20240101005408|     20240101012631|               148|                141|          1|            1.0|          4.7|              1|                 N|       29.6|  3.5|    0.5|       6.9|         0.0|                  1.0|                 2.5|          0|        41.5|\n",
      "|        2|    20240101004944|     20240101011547|               138|                181|          1|            2.0|        10.82|              1|                 N|       45.7|  6.0|    0.5|      10.0|         0.0|                  1.0|                 0.0|          1|       64.95|\n",
      "|        1|    20240101003040|     20240101005840|               246|                231|          1|            1.0|          3.0|              2|                 N|       25.4|  3.5|    0.5|       0.0|         0.0|                  1.0|                 2.5|          0|        30.4|\n",
      "|        2|    20240101002601|     20240101005412|               161|                261|          1|            1.0|         5.44|              2|                 N|       31.0|  1.0|    0.5|       0.0|         0.0|                  1.0|                 2.5|          0|        36.0|\n",
      "|        2|    20240101002808|     20240101002916|               113|                113|          1|            1.0|         0.04|              2|                 N|        3.0|  1.0|    0.5|       0.0|         0.0|                  1.0|                 2.5|          0|         8.0|\n",
      "|        2|    20240101003522|     20240101004141|               107|                137|          1|            2.0|         0.75|              1|                 N|        7.9|  1.0|    0.5|       0.0|         0.0|                  1.0|                 2.5|          0|        12.9|\n",
      "|        1|    20240101002500|     20240101003403|               158|                246|          1|            2.0|          1.2|              1|                 N|       14.9|  3.5|    0.5|      3.95|         0.0|                  1.0|                 2.5|          0|       23.85|\n",
      "|        1|    20240101003516|     20240101011152|               246|                190|          1|            2.0|          8.2|              1|                 N|       59.0|  3.5|    0.5|     14.15|        6.94|                  1.0|                 2.5|          0|       85.09|\n",
      "|        1|    20240101004327|     20240101004711|                68|                 90|          1|            2.0|          0.4|              1|                 N|        5.8|  3.5|    0.5|      1.25|         0.0|                  1.0|                 2.5|          0|       12.05|\n",
      "|        1|    20240101005153|     20240101005543|                90|                 68|          1|            1.0|          0.8|              2|                 N|        6.5|  3.5|    0.5|       0.0|         0.0|                  1.0|                 2.5|          0|        11.5|\n",
      "|        1|    20240101005009|     20240101010357|               132|                216|          1|            1.0|          5.0|              2|                 N|       21.2| 2.75|    0.5|       0.0|         0.0|                  1.0|                 0.0|          1|       25.45|\n",
      "|        1|    20240101004106|     20240101005342|               164|                 79|          1|            1.0|          1.5|              1|                 N|       12.8|  3.5|    0.5|      4.45|         0.0|                  1.0|                 2.5|          0|       22.25|\n",
      "|        2|    20240101005638|     20240101010317|               141|                263|          1|            1.0|          1.5|              1|                 N|        9.3|  1.0|    0.5|       3.0|         0.0|                  1.0|                 2.5|          0|        17.3|\n",
      "|        2|    20240101003234|     20240101004933|               161|                263|          1|            1.0|         2.57|              1|                 N|       17.7|  1.0|    0.5|      10.0|         0.0|                  1.0|                 2.5|          0|        32.7|\n",
      "|        2|    20240101005230|     20240101005737|               263|                236|          1|            1.0|         0.66|              1|                 N|        6.5|  1.0|    0.5|      2.88|         0.0|                  1.0|                 2.5|          0|       14.38|\n",
      "+---------+------------------+-------------------+------------------+-------------------+-----------+---------------+-------------+---------------+------------------+-----------+-----+-------+----------+------------+---------------------+--------------------+-----------+------------+\n",
      "only showing top 20 rows\n",
      "\n"
     ]
    },
    {
     "name": "stderr",
     "output_type": "stream",
     "text": [
      "                                                                                \r"
     ]
    }
   ],
   "source": [
    "df.show()"
   ]
  },
  {
   "cell_type": "code",
   "execution_count": null,
   "id": "115132b4-0e9f-4780-8f70-b7a994fef492",
   "metadata": {},
   "outputs": [],
   "source": []
  },
  {
   "cell_type": "code",
   "execution_count": null,
   "id": "9d86a1dc-bb29-4587-b0ce-489bf5f4983f",
   "metadata": {},
   "outputs": [],
   "source": []
  }
 ],
 "metadata": {
  "kernelspec": {
   "display_name": "Python 3 (ipykernel)",
   "language": "python",
   "name": "python3"
  },
  "language_info": {
   "codemirror_mode": {
    "name": "ipython",
    "version": 3
   },
   "file_extension": ".py",
   "mimetype": "text/x-python",
   "name": "python",
   "nbconvert_exporter": "python",
   "pygments_lexer": "ipython3",
   "version": "3.10.6"
  }
 },
 "nbformat": 4,
 "nbformat_minor": 5
}
