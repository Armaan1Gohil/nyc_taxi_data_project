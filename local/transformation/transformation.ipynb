{
 "cells": [
  {
   "cell_type": "code",
   "execution_count": 1,
   "id": "e5fee2b7-2e20-4971-ab1c-0398ad9f4cd4",
   "metadata": {},
   "outputs": [],
   "source": [
    "from pyspark.sql import SparkSession, Window\n",
    "from pyspark.sql import types\n",
    "from pyspark.sql import functions as F\n",
    "from pyspark.sql.functions import col\n",
    "from pyspark.sql.window import Window\n",
    "import os"
   ]
  },
  {
   "cell_type": "code",
   "execution_count": 2,
   "id": "ff620977-e0a2-4e99-bf5f-5798da462433",
   "metadata": {
    "scrolled": true
   },
   "outputs": [
    {
     "name": "stderr",
     "output_type": "stream",
     "text": [
      "Setting default log level to \"WARN\".\n",
      "To adjust logging level use sc.setLogLevel(newLevel). For SparkR, use setLogLevel(newLevel).\n",
      "24/09/06 03:58:31 WARN NativeCodeLoader: Unable to load native-hadoop library for your platform... using builtin-java classes where applicable\n"
     ]
    }
   ],
   "source": [
    "spark = SparkSession.builder \\\n",
    "    .master('local[*]') \\\n",
    "    .appName('data_transformation') \\\n",
    "    .getOrCreate()\n",
    "\n",
    "sc = spark.sparkContext"
   ]
  },
  {
   "cell_type": "code",
   "execution_count": 3,
   "id": "b8fb1ffe-e4e4-4d15-b86d-310090abc549",
   "metadata": {},
   "outputs": [],
   "source": [
    "data_path = '../raw_data'"
   ]
  },
  {
   "cell_type": "code",
   "execution_count": 4,
   "id": "a226243b-6d92-4e9e-9212-c3136a5c5e35",
   "metadata": {},
   "outputs": [],
   "source": [
    "new_schema = types.StructType([\n",
    "    types.StructField('VendorID', types.IntegerType(), True), \n",
    "    types.StructField('tpep_pickup_datetime', types.TimestampNTZType(), True), \n",
    "    types.StructField('tpep_dropoff_datetime', types.TimestampNTZType(), True), \n",
    "    types.StructField('passenger_count', types.IntegerType(), True), \n",
    "    types.StructField('trip_distance', types.FloatType(), True), \n",
    "    types.StructField('RatecodeID', types.IntegerType(), True), \n",
    "    types.StructField('store_and_fwd_flag', types.StringType(), True), \n",
    "    types.StructField('PULocationID', types.IntegerType(), True), \n",
    "    types.StructField('DOLocationID', types.IntegerType(), True), \n",
    "    types.StructField('payment_type', types.IntegerType(), True), \n",
    "    types.StructField('fare_amount', types.FloatType(), True), \n",
    "    types.StructField('extra', types.FloatType(), True), \n",
    "    types.StructField('mta_tax', types.FloatType(), True), \n",
    "    types.StructField('tip_amount', types.FloatType(), True), \n",
    "    types.StructField('tolls_amount', types.FloatType(), True), \n",
    "    types.StructField('improvement_surcharge', types.FloatType(), True), \n",
    "    types.StructField('total_amount', types.FloatType(), True), \n",
    "    types.StructField('congestion_surcharge', types.FloatType(), True), \n",
    "    types.StructField('airport_fee', types.IntegerType(), True)])"
   ]
  },
  {
   "cell_type": "code",
   "execution_count": 5,
   "id": "81bbf3b7-e539-4599-994d-6b3c1014d099",
   "metadata": {},
   "outputs": [],
   "source": [
    "# years = os.listdir(data_path)\n",
    "# for year in years:\n",
    "#     months = os.listdir(f'{data_path}/{year}')\n",
    "#     spark.read.option('headers', True).parquet(f'{data_path}/{year}/*/*.parquet')"
   ]
  },
  {
   "cell_type": "code",
   "execution_count": 6,
   "id": "481f32e2-722e-4f62-a49b-9afb884f3a65",
   "metadata": {},
   "outputs": [
    {
     "name": "stderr",
     "output_type": "stream",
     "text": [
      "                                                                                \r"
     ]
    }
   ],
   "source": [
    "df = spark.read.option('headers', True).parquet(f'{data_path}/2019/01/*.parquet')"
   ]
  },
  {
   "cell_type": "code",
   "execution_count": 7,
   "id": "056b1c29-58e3-4173-80cb-a2f891013539",
   "metadata": {},
   "outputs": [],
   "source": [
    "old_schema = df.schema"
   ]
  },
  {
   "cell_type": "code",
   "execution_count": 8,
   "id": "de8becd5-bf83-4106-bb2e-f697aa549c74",
   "metadata": {
    "scrolled": true
   },
   "outputs": [],
   "source": [
    "for old_field, new_field in zip(old_schema.fields, new_schema.fields):\n",
    "    df = df.withColumn(new_field.name, col(old_field.name).cast(new_field.dataType))"
   ]
  },
  {
   "cell_type": "code",
   "execution_count": 9,
   "id": "ef0183e8-6fdf-46b7-94c6-debcd6fd3adb",
   "metadata": {},
   "outputs": [],
   "source": [
    "df = df.withColumnRenamed('VendorID', 'vendor_id') \\\n",
    "    .withColumnRenamed('RatecodeID', 'ratecode_id') \\\n",
    "    .withColumnRenamed('tpep_pickup_datetime', 'pickup_datetime') \\\n",
    "    .withColumnRenamed('tpep_dropoff_datetime', 'dropoff_datetime') \\\n",
    "    .withColumnRenamed('PULocationID', 'pickup_location_id') \\\n",
    "    .withColumnRenamed('DOLocationID', 'dropoff_location_id')"
   ]
  },
  {
   "cell_type": "code",
   "execution_count": 42,
   "id": "00275fbd-a65d-459c-b975-1e1bbdeb77fd",
   "metadata": {
    "scrolled": true
   },
   "outputs": [],
   "source": [
    "df = df.filter((col('fare_amount') > 0) \\\n",
    "               & (col('trip_distance') > 0) \\\n",
    "               & (col('extra') > 0))\n",
    "\n",
    "df = df.filter((col('ratecode_id') <= 6))\n",
    "\n",
    "df = df.withColumn('congestion_surcharge', F.when(col('congestion_surcharge').isNull(), 0).otherwise(col('congestion_surcharge')))\n",
    "df = df.withColumn('airport_fee', F.when(col('airport_fee').isNull(), 0).otherwise(col('airport_fee')))"
   ]
  },
  {
   "cell_type": "code",
   "execution_count": null,
   "id": "4b89f317-1f19-47f3-9098-69bfed75cb1e",
   "metadata": {},
   "outputs": [],
   "source": [
    "window_spec = Window.orderBy('passenger_count')\n",
    "\n",
    "df_rn = df.select(['passenger_count']).withColumn('rn', F.row_number().over(window_spec))\n",
    "total_rows = df.count()\n",
    "                                                         \n",
    "if total_rows % 2 == 0:\n",
    "    lower_mid = total_rows // 2\n",
    "    upper_mid = lower_mid + 1\n",
    "else:\n",
    "    lower_mid = total_rows // 2 + 1\n",
    "    upper_mid = lower_mid\n",
    "\n",
    "median_df = df_rn.filter((col('rn') == lower_mid) | (col('rn') == upper_mid))\n",
    "\n",
    "median_value = median_df.agg(F.avg(col('passenger_count'))).collect()[0][0]\n",
    "\n",
    "df = df.withColumn('passenger_count', F.when(col('passenger_count') == 0, median_value).otherwise(col('passenger_count')))"
   ]
  },
  {
   "cell_type": "code",
   "execution_count": 27,
   "id": "395859b3-d247-4aac-8de8-c8123540e9e6",
   "metadata": {},
   "outputs": [],
   "source": [
    "pickup_datetime_dim = df.select(['pickup_datetime']) \\\n",
    "    .distinct() \\\n",
    "    .withColumn('pickup_datetime_id', F.monotonically_increasing_id()) \\\n",
    "    .withColumn('pickup_hour', F.hour(col('pickup_datetime'))) \\\n",
    "    .withColumn('pickup_day', F.dayofmonth(col('pickup_datetime'))) \\\n",
    "    .withColumn('pickup_month', F.month(col('pickup_datetime'))) \\\n",
    "    .withColumn('pickup_year', F.year(col('pickup_datetime'))) \\\n",
    "    .withColumn('pickup_weekday', F.date_format(col('pickup_datetime'), 'EEEE'))\n",
    "\n",
    "pickup_datetime_dim = pickup_datetime_dim.select(\n",
    "    'pickup_datetime_id',\n",
    "    'pickup_datetime',\n",
    "    'pickup_hour',\n",
    "    'pickup_day',\n",
    "    'pickup_month',\n",
    "    'pickup_year',\n",
    "    'pickup_weekday'\n",
    ")"
   ]
  },
  {
   "cell_type": "code",
   "execution_count": 28,
   "id": "f7305e90-cbbb-45b9-a108-e49c11f31dce",
   "metadata": {},
   "outputs": [
    {
     "name": "stderr",
     "output_type": "stream",
     "text": [
      "                                                                                \r"
     ]
    }
   ],
   "source": [
    "pickup_datetime_id_dict = {row['pickup_datetime']: row['pickup_datetime_id'] for row in pickup_datetime_dim.collect()} \n",
    "\n",
    "pickup_datetime_id_broadcast = sc.broadcast(pickup_datetime_id_dict)\n",
    "\n",
    "def get_pickup_datetime_id(date_time):\n",
    "    return pickup_datetime_id_broadcast.value.get(date_time, None)\n",
    "\n",
    "get_pickup_datetime_id_udf = F.udf(get_pickup_datetime_id, types.IntegerType())\n",
    "\n",
    "df = df.withColumn('pickup_datetime_id', get_pickup_datetime_id_udf('pickup_datetime'))"
   ]
  },
  {
   "cell_type": "code",
   "execution_count": 29,
   "id": "0484d166-7561-4c65-8333-1c661841e0e5",
   "metadata": {},
   "outputs": [],
   "source": [
    "dropoff_datetime_dim = df.select(['dropoff_datetime']) \\\n",
    "    .distinct() \\\n",
    "    .withColumn('dropoff_datetime_id', F.monotonically_increasing_id()) \\\n",
    "    .withColumn('dropoff_hour', F.hour(col('dropoff_datetime'))) \\\n",
    "    .withColumn('dropoff_day', F.dayofmonth(col('dropoff_datetime'))) \\\n",
    "    .withColumn('dropoff_month', F.month(col('dropoff_datetime'))) \\\n",
    "    .withColumn('dropoff_year', F.year(col('dropoff_datetime'))) \\\n",
    "    .withColumn('dropoff_weekday', F.date_format(col('dropoff_datetime'), 'EEEE'))\n",
    "\n",
    "dropoff_datetime_dim = dropoff_datetime_dim.select(\n",
    "    'dropoff_datetime_id',\n",
    "    'dropoff_datetime',\n",
    "    'dropoff_hour',\n",
    "    'dropoff_day',\n",
    "    'dropoff_month',\n",
    "    'dropoff_year',\n",
    "    'dropoff_weekday'\n",
    ")"
   ]
  },
  {
   "cell_type": "code",
   "execution_count": 30,
   "id": "04e810f4-0b1d-4a7f-a120-22dda76f64bc",
   "metadata": {},
   "outputs": [
    {
     "name": "stderr",
     "output_type": "stream",
     "text": [
      "                                                                                \r"
     ]
    }
   ],
   "source": [
    "dropoff_datetime_id_dict = {row['dropoff_datetime']: row['dropoff_datetime_id'] for row in dropoff_datetime_dim.collect()} \n",
    "\n",
    "dropoff_datetime_id_broadcast = sc.broadcast(dropoff_datetime_id_dict)\n",
    "\n",
    "def get_dropoff_datetime_id(date_time):\n",
    "    return dropoff_datetime_id_broadcast.value.get(date_time, None)\n",
    "\n",
    "get_dropoff_datetime_id_udf = F.udf(get_dropoff_datetime_id, types.IntegerType())\n",
    "\n",
    "df = df.withColumn('dropoff_datetime_id', get_dropoff_datetime_id_udf('dropoff_datetime'))"
   ]
  },
  {
   "cell_type": "code",
   "execution_count": 31,
   "id": "a0b85071-e4e1-4367-8a69-b97c31ec266e",
   "metadata": {
    "scrolled": true
   },
   "outputs": [
    {
     "name": "stderr",
     "output_type": "stream",
     "text": [
      "[Stage 35:===========================================>              (3 + 1) / 4]\r"
     ]
    },
    {
     "name": "stdout",
     "output_type": "stream",
     "text": [
      "+---------+-------------------+-------------------+---------------+-------------+-----------+------------------+------------------+-------------------+------------+-----------+-----+-------+----------+------------+---------------------+------------+--------------------+-----------+------------------+-------------------+\n",
      "|vendor_id|    pickup_datetime|   dropoff_datetime|passenger_count|trip_distance|ratecode_id|store_and_fwd_flag|pickup_location_id|dropoff_location_id|payment_type|fare_amount|extra|mta_tax|tip_amount|tolls_amount|improvement_surcharge|total_amount|congestion_surcharge|airport_fee|pickup_datetime_id|dropoff_datetime_id|\n",
      "+---------+-------------------+-------------------+---------------+-------------+-----------+------------------+------------------+-------------------+------------+-----------+-----+-------+----------+------------+---------------------+------------+--------------------+-----------+------------------+-------------------+\n",
      "|        1|2019-01-01 00:46:40|2019-01-01 00:53:20|              1|          1.5|          1|                 N|               151|                239|           1|        7.0|  0.5|    0.5|      1.65|         0.0|                  0.3|        9.95|                null|       null|            126318|             143603|\n",
      "|        1|2019-01-01 00:59:47|2019-01-01 01:18:59|              1|          2.6|          1|                 N|               239|                246|           1|       14.0|  0.5|    0.5|       1.0|         0.0|                  0.3|        16.3|                null|       null|             38560|              77484|\n",
      "|        1|2019-01-01 00:21:28|2019-01-01 00:28:37|              1|          1.3|          1|                 N|               163|                229|           1|        6.5|  0.5|    0.5|      1.25|         0.0|                  0.3|        9.05|                null|       null|             10861|              98605|\n",
      "|        1|2019-01-01 00:32:01|2019-01-01 00:45:39|              1|          3.7|          1|                 N|               229|                  7|           1|       13.5|  0.5|    0.5|       3.7|         0.0|                  0.3|        18.5|                null|       null|            120233|              44340|\n",
      "|        1|2019-01-01 00:57:32|2019-01-01 01:09:32|              2|          2.1|          1|                 N|               141|                234|           1|       10.0|  0.5|    0.5|       1.7|         0.0|                  0.3|        13.0|                null|       null|             32791|              27670|\n",
      "|        1|2019-01-01 00:24:04|2019-01-01 00:47:06|              2|          2.8|          1|                 N|               246|                162|           1|       15.0|  0.5|    0.5|      3.25|         0.0|                  0.3|       19.55|                null|       null|             21842|               5601|\n",
      "|        1|2019-01-01 00:21:59|2019-01-01 00:28:24|              1|          0.7|          1|                 N|               238|                151|           1|        5.5|  0.5|    0.5|       1.7|         0.0|                  0.3|         8.5|                null|       null|             48998|              77524|\n",
      "|        1|2019-01-01 00:45:21|2019-01-01 01:31:05|              1|          8.7|          1|                 N|               163|                 25|           1|       34.5|  0.5|    0.5|      7.15|         0.0|                  0.3|       42.95|                null|       null|                 0|             181873|\n",
      "|        1|2019-01-01 00:43:19|2019-01-01 01:07:42|              1|          6.3|          1|                 N|               224|                 25|           1|       21.5|  0.5|    0.5|       5.7|         0.0|                  0.3|        28.5|                null|       null|            148127|             104304|\n",
      "|        1|2019-01-01 00:58:24|2019-01-01 01:15:18|              1|          2.7|          1|                 N|               141|                234|           1|       13.0|  0.5|    0.5|       1.0|         0.0|                  0.3|        15.3|                null|       null|            158953|             126932|\n",
      "|        2|2019-01-01 00:23:14|2019-01-01 00:25:40|              1|         0.38|          1|                 N|               170|                170|           2|        3.5|  0.5|    0.5|       0.0|         0.0|                  0.3|         4.8|                null|       null|            103637|             115770|\n",
      "|        2|2019-01-01 00:39:51|2019-01-01 00:48:02|              1|         0.55|          1|                 N|               170|                170|           1|        6.5|  0.5|    0.5|      1.95|         0.0|                  0.3|        9.75|                null|       null|             27571|             121477|\n",
      "|        2|2019-01-01 00:46:00|2019-01-01 00:49:07|              1|          0.3|          1|                 N|               107|                107|           1|        4.0|  0.5|    0.5|      1.06|         0.0|                  0.3|        6.36|                null|       null|            120748|              65780|\n",
      "|        2|2019-01-01 00:57:45|2019-01-01 01:03:51|              1|         1.42|          1|                 N|               170|                141|           1|        6.5|  0.5|    0.5|      1.56|         0.0|                  0.3|        9.36|                null|       null|             33039|             110619|\n",
      "|        2|2019-01-01 00:16:16|2019-01-01 00:25:57|              1|         1.72|          1|                 N|                41|                247|           2|        9.0|  0.5|    0.5|       0.0|         0.0|                  0.3|        10.3|                null|       null|             21843|              16463|\n",
      "|        2|2019-01-01 00:46:43|2019-01-01 00:47:02|              1|         0.06|          1|                 N|               116|                 42|           2|        2.5|  0.5|    0.5|       0.0|         0.0|                  0.3|         3.8|                null|       null|            103710|             109786|\n",
      "|        1|2019-01-01 00:48:01|2019-01-01 01:00:23|              1|          1.5|          1|                 N|               113|                 90|           2|        7.5|  0.5|    0.5|       0.0|         0.0|                  0.3|         8.8|                null|       null|             71587|              38505|\n",
      "|        1|2019-01-01 00:55:27|2019-01-01 01:11:50|              1|          1.2|          1|                 N|               161|                170|           1|       10.5|  0.5|    0.5|      2.95|         0.0|                  0.3|       14.75|                null|       null|             38654|              99659|\n",
      "|        1|2019-01-01 00:19:55|2019-01-01 00:57:56|              1|         12.3|          1|                 N|               138|                 50|           1|       38.0|  0.5|    0.5|       4.0|        5.76|                  0.3|       49.06|                null|       null|            191924|             132508|\n",
      "|        1|2019-01-01 00:13:53|2019-01-01 00:22:11|              1|          1.3|          1|                 N|               144|                261|           2|        7.5|  0.5|    0.5|       0.0|         0.0|                  0.3|         8.8|                null|       null|                 0|              44395|\n",
      "+---------+-------------------+-------------------+---------------+-------------+-----------+------------------+------------------+-------------------+------------+-----------+-----+-------+----------+------------+---------------------+------------+--------------------+-----------+------------------+-------------------+\n",
      "only showing top 20 rows\n",
      "\n"
     ]
    },
    {
     "name": "stderr",
     "output_type": "stream",
     "text": [
      "                                                                                \r"
     ]
    }
   ],
   "source": [
    "df.show()"
   ]
  },
  {
   "cell_type": "code",
   "execution_count": 34,
   "id": "334be679-960c-476c-9bdd-61829550a8cf",
   "metadata": {},
   "outputs": [],
   "source": [
    "df = df.select(['vendor_id',\n",
    "     'pickup_datetime_id',\n",
    "     'dropoff_datetime_id',\n",
    "     'pickup_location_id',\n",
    "     'dropoff_location_id', \n",
    "     'ratecode_id',\n",
    "     'passenger_count',\n",
    "     'trip_distance',\n",
    "     'payment_type',\n",
    "     'store_and_fwd_flag',\n",
    "     'fare_amount',\n",
    "     'extra',\n",
    "     'mta_tax',\n",
    "     'tip_amount',\n",
    "     'tolls_amount',\n",
    "     'improvement_surcharge',\n",
    "     'congestion_surcharge',\n",
    "     'airport_fee',\n",
    "     'total_amount'])"
   ]
  },
  {
   "cell_type": "code",
   "execution_count": 43,
   "id": "ad38885f-6c37-4153-ac30-ea2745616a71",
   "metadata": {},
   "outputs": [
    {
     "name": "stderr",
     "output_type": "stream",
     "text": [
      "                                                                                \r"
     ]
    },
    {
     "name": "stdout",
     "output_type": "stream",
     "text": [
      "congestion_surcharge 0\n",
      "airport_fee 0\n"
     ]
    },
    {
     "name": "stderr",
     "output_type": "stream",
     "text": [
      "                                                                                \r"
     ]
    }
   ],
   "source": [
    "for c in ['congestion_surcharge', 'airport_fee']:\n",
    "    count = df.select(c).filter(col(c).isNull()).count()\n",
    "    print(c, count)"
   ]
  },
  {
   "cell_type": "code",
   "execution_count": null,
   "id": "eef3f4e5-1a93-4c49-95ff-20afd43a4c9c",
   "metadata": {},
   "outputs": [],
   "source": []
  }
 ],
 "metadata": {
  "kernelspec": {
   "display_name": "Python 3 (ipykernel)",
   "language": "python",
   "name": "python3"
  },
  "language_info": {
   "codemirror_mode": {
    "name": "ipython",
    "version": 3
   },
   "file_extension": ".py",
   "mimetype": "text/x-python",
   "name": "python",
   "nbconvert_exporter": "python",
   "pygments_lexer": "ipython3",
   "version": "3.10.6"
  }
 },
 "nbformat": 4,
 "nbformat_minor": 5
}
