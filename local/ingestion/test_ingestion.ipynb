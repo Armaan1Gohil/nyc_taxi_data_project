{
 "cells": [
  {
   "cell_type": "code",
   "execution_count": 118,
   "metadata": {},
   "outputs": [],
   "source": [
    "import requests\n",
    "from bs4 import BeautifulSoup\n",
    "\n",
    "class WebScraper:\n",
    "    def __init__(self, url):\n",
    "        self.url = url\n",
    "\n",
    "    # Get all the parquet files link\n",
    "    def get_all_links(self, title_filter=None):\n",
    "        try:\n",
    "            html_response = requests.get(self.url)\n",
    "            html_response.raise_for_status()\n",
    "        except Exception as e:\n",
    "            raise\n",
    "\n",
    "        soup = BeautifulSoup(html_response.text, 'html.parser')\n",
    "        if title_filter:\n",
    "            tags = soup.find_all('a', attrs={'title': title_filter})\n",
    "            return [tag['href'] for tag in tags]\n",
    "        return soup.find_all('a')\n",
    "\n",
    "    def get_latest_link(self, title_filter=None):\n",
    "        try:\n",
    "            html_response = requests.get(self.url)\n",
    "            html_response.raise_for_status()\n",
    "        except Exception as e:\n",
    "            raise\n",
    "\n",
    "        soup = BeautifulSoup(html_response.text, 'html.parser')\n",
    "        if title_filter:\n",
    "            tag = soup.find('a', attrs={'title': title_filter})\n",
    "            return tag['href']\n",
    "        return soup.find_all('a')\n",
    "\n",
    "    def get_date(self, link):\n",
    "        year, month = link.rsplit('/', 1)[-1].rsplit('_', 1)[-1].split('.')[0].split('-')\n",
    "        return year, month"
   ]
  },
  {
   "cell_type": "code",
   "execution_count": 119,
   "metadata": {},
   "outputs": [],
   "source": [
    "page_url = \"https://www.nyc.gov/site/tlc/about/tlc-trip-record-data.page\"\n",
    "\n",
    "web_scraper = WebScraper(page_url)\n",
    "\n",
    "links = web_scraper.get_all_links(title_filter = \"Yellow Taxi Trip Records\")\n",
    "latest_link = web_scraper.get_latest_link(title_filter = 'Yellow Taxi Trip Records')"
   ]
  },
  {
   "cell_type": "code",
   "execution_count": 120,
   "metadata": {},
   "outputs": [
    {
     "data": {
      "text/plain": [
       "'https://d37ci6vzurychx.cloudfront.net/trip-data/yellow_tripdata_2024-01.parquet '"
      ]
     },
     "execution_count": 120,
     "metadata": {},
     "output_type": "execute_result"
    }
   ],
   "source": [
    "latest_link"
   ]
  },
  {
   "cell_type": "code",
   "execution_count": 140,
   "metadata": {},
   "outputs": [],
   "source": [
    "import boto3\n",
    "import os\n",
    "from botocore.client import Config\n",
    "from botocore.exceptions import ClientError\n",
    "\n",
    "class MinioClient:\n",
    "    endpoint = 'http://object-storage:9000'\n",
    "    access_key = os.getenv('MINIO_ROOT_USER')\n",
    "    secret_key = os.getenv('MINIO_ROOT_PASSWORD')\n",
    "\n",
    "    def __init__(self):\n",
    "        self.endpoint = MinioClient.endpoint\n",
    "        self.access_key = MinioClient.access_key\n",
    "        self.secret_key = MinioClient.secret_key\n",
    "        self.s3 = boto3.client(\n",
    "            's3',\n",
    "            endpoint_url=self.endpoint,\n",
    "            aws_access_key_id=self.access_key,\n",
    "            aws_secret_access_key=self.secret_key,\n",
    "            config=Config(signature_version='s3v4')\n",
    "        )\n",
    "    \n",
    "    @classmethod\n",
    "    def set_credentials(cls, endpoint, access_key, secret_key):\n",
    "        cls.endpoint = endpoint\n",
    "        cls.access_key = access_key\n",
    "        cls.secret_key = secret_key\n",
    "\n",
    "    def create_bucket(self, bucket_name):\n",
    "        try:\n",
    "            self.s3.head_bucket(Bucket=bucket_name)\n",
    "        except ClientError as e:\n",
    "            if e.response['Error']['Code'] == '404':\n",
    "                self.s3.create_bucket(Bucket=bucket_name)\n",
    "            else:\n",
    "                raise\n",
    "\n",
    "    def upload_file(self, bucket_name, object_name, file):\n",
    "        try:\n",
    "            self.s3.put_object(Bucket=bucket_name, Key=object_name, Body=file)\n",
    "        except ClientError as e:\n",
    "            raise"
   ]
  },
  {
   "cell_type": "code",
   "execution_count": 141,
   "metadata": {},
   "outputs": [],
   "source": [
    "import os\n",
    "import io\n",
    "import requests\n",
    "\n",
    "class DataProcessor:\n",
    "\n",
    "    def download_file(self, url):\n",
    "        try:\n",
    "            file_response = requests.get(url, stream=True)\n",
    "            file_response.raise_for_status()\n",
    "            buffer = io.BytesIO()\n",
    "            for chunk in file_response.iter_content(chunk_size=8192):\n",
    "                buffer.write(chunk)\n",
    "            buffer.seek(0)\n",
    "            return buffer.getvalue()\n",
    "        except Exception as e:\n",
    "            raise"
   ]
  },
  {
   "cell_type": "code",
   "execution_count": 145,
   "metadata": {},
   "outputs": [],
   "source": [
    "import argparse\n",
    "\n",
    "def main(download_year, download_month):\n",
    "    # Initialize MinIO and DataProcessor\n",
    "    bucket_name = 'nyc-project'\n",
    "\n",
    "    # Create MinIO bucket if it doesn't exist\n",
    "    minio_client = MinioClient()\n",
    "    \n",
    "    # Initiate Data Processor\n",
    "    data_processor = DataProcessor()\n",
    "    \n",
    "    # Declare URL and file name\n",
    "    url = f'https://d37ci6vzurychx.cloudfront.net/trip-data/yellow_tripdata_{download_year}-{download_month:02}.parquet'\n",
    "    file_name = f'yellow_tripdata_{download_year}_{download_month:02}.parquet'\n",
    "\n",
    "    # Process and upload data\n",
    "    parquet_buffer = data_processor.download_file(url)\n",
    "    parquet_path = f'raw-data/{year}/{month}/{file_name}'\n",
    "    minio_client.upload_file(bucket_name, parquet_path, parquet_buffer)\n",
    "\n",
    "if __name__ == \"__main__\":\n",
    "    # parser = argparse.ArgumentParser()\n",
    "    # parser.add_argument(\"--year\", required=True, type=int)\n",
    "    # parser.add_argument(\"--month\", required=True, type=int)\n",
    "    # args = parser.parse_args()\n",
    "    year = 2024\n",
    "    month = 10\n",
    "\n",
    "    main(year, month)"
   ]
  },
  {
   "cell_type": "code",
   "execution_count": null,
   "metadata": {},
   "outputs": [],
   "source": []
  }
 ],
 "metadata": {
  "kernelspec": {
   "display_name": "Python 3 (ipykernel)",
   "language": "python",
   "name": "python3"
  },
  "language_info": {
   "codemirror_mode": {
    "name": "ipython",
    "version": 3
   },
   "file_extension": ".py",
   "mimetype": "text/x-python",
   "name": "python",
   "nbconvert_exporter": "python",
   "pygments_lexer": "ipython3",
   "version": "3.10.16"
  },
  "vscode": {
   "interpreter": {
    "hash": "3c06e3e46abf38078fe4dac36a0085ec2b134ebbd73dd076183d243eeca6918f"
   }
  }
 },
 "nbformat": 4,
 "nbformat_minor": 4
}
