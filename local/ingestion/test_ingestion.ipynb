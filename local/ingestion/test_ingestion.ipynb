{
 "cells": [
  {
   "cell_type": "code",
   "execution_count": 80,
   "metadata": {},
   "outputs": [],
   "source": [
    "from bs4 import BeautifulSoup\n",
    "import requests\n",
    "import io\n",
    "import logging\n",
    "import boto3\n",
    "from botocore.client import Config"
   ]
  },
  {
   "cell_type": "code",
   "execution_count": 81,
   "metadata": {},
   "outputs": [],
   "source": [
    "s3 = boto3.client(\n",
    "    's3',\n",
    "    endpoint_url = 'http://object-storage:9000',\n",
    "    aws_access_key_id = 'root',\n",
    "    aws_secret_access_key = 'password',\n",
    "    config=Config(signature_version='s3v4'),\n",
    ")"
   ]
  },
  {
   "cell_type": "code",
   "execution_count": 82,
   "metadata": {},
   "outputs": [],
   "source": [
    "def create_minio_bucket(bucket_name):\n",
    "    try:\n",
    "        s3.head_bucket(Bucket=bucket_name)\n",
    "        loggin.info(f'Bucket already exists: {bucket_name}')\n",
    "    except:\n",
    "        try:\n",
    "            s3.create_bucket(Bucket=bucket_name)\n",
    "            logger.info(f'Bucket created succesfully: {bucket_name}')\n",
    "        except Exception as e:\n",
    "            logger.error(f'Error creating a bucket: {e}')\n",
    "            raise"
   ]
  },
  {
   "cell_type": "code",
   "execution_count": 83,
   "metadata": {},
   "outputs": [],
   "source": [
    "logging.basicConfig(\n",
    "    level=logging.INFO,\n",
    "    format='%(asctime)s - %(name)s - %(levelname)s - %(message)s',\n",
    "    handlers=[\n",
    "        logging.FileHandler('../logs/ingestion.log'),\n",
    "        logging.StreamHandler()\n",
    "    ]\n",
    ")\n",
    "\n",
    "logger = logging.getLogger(__name__)"
   ]
  },
  {
   "cell_type": "code",
   "execution_count": 84,
   "metadata": {},
   "outputs": [],
   "source": [
    "def download_parquet_to_memory(url):\n",
    "    logger.info(f'Download Start: {file_name}')\n",
    "    \n",
    "    parquet_response = requests.get(url, stream=True)\n",
    "    parquet_response.raise_for_status()\n",
    "    buffer = io.BytesIO()\n",
    "    \n",
    "    for chunk in parquet_response.iter_content(chunk_size = 8192):\n",
    "        buffer.write(chunk)\n",
    "\n",
    "    logger.info(f'Download Complete: {file_name}')\n",
    "    return buffer"
   ]
  },
  {
   "cell_type": "code",
   "execution_count": 85,
   "metadata": {},
   "outputs": [],
   "source": [
    "def upload_to_minio(buffer, bucket_name, object_name):\n",
    "    try:\n",
    "        buffer.seek(0)\n",
    "        s3.put_object(Bucket=bucket_name, Key=object_name, Body=buffer.getvalue())\n",
    "        logger.info(f\"Succesfully uploaded to bucket '{bucket_name}': {bucket_name}\")\n",
    "        buffer.close()\n",
    "    except Exception as e:\n",
    "        logger.error(f'Error uploading to MinIO: {e}')"
   ]
  },
  {
   "cell_type": "code",
   "execution_count": 86,
   "metadata": {},
   "outputs": [],
   "source": [
    "def process_and_upload_to_minio(url, file_name, year, month, bucket_name):\n",
    "    parquet_buffer = download_parquet_to_memory(url)\n",
    "\n",
    "    logger.info(f'Uploading file {file_name} to Bucket: {bucket_name}')\n",
    "\n",
    "    object_name = f'{year}/{month}/{file_name}'\n",
    "\n",
    "    upload_to_minio(parquet_buffer, bucket_name, object_name)"
   ]
  },
  {
   "cell_type": "code",
   "execution_count": 87,
   "metadata": {},
   "outputs": [],
   "source": [
    "page_url = \"https://www.nyc.gov/site/tlc/about/tlc-trip-record-data.page\""
   ]
  },
  {
   "cell_type": "code",
   "execution_count": 88,
   "metadata": {},
   "outputs": [],
   "source": [
    "html_response = requests.get(page_url)\n",
    "html_response.raise_for_status()"
   ]
  },
  {
   "cell_type": "code",
   "execution_count": 89,
   "metadata": {},
   "outputs": [],
   "source": [
    "soup = BeautifulSoup(html_response.text, 'html.parser')"
   ]
  },
  {
   "cell_type": "code",
   "execution_count": 90,
   "metadata": {},
   "outputs": [],
   "source": [
    "headers = soup.find_all('a', attrs={'title': 'Yellow Taxi Trip Records'})"
   ]
  },
  {
   "cell_type": "code",
   "execution_count": 91,
   "metadata": {},
   "outputs": [
    {
     "name": "stderr",
     "output_type": "stream",
     "text": [
      "2024-09-10 03:06:22,138 - __main__ - INFO - Bucket created succesfully: data\n"
     ]
    }
   ],
   "source": [
    "bucket_name = 'data'\n",
    "create_minio_bucket(bucket_name)"
   ]
  },
  {
   "cell_type": "code",
   "execution_count": null,
   "metadata": {
    "scrolled": true
   },
   "outputs": [
    {
     "name": "stderr",
     "output_type": "stream",
     "text": [
      "2024-09-10 03:06:24,778 - __main__ - INFO - Download Start: yellow_tripdata_2024-01.parquet\n",
      "2024-09-10 03:06:49,856 - __main__ - INFO - Download Complete: yellow_tripdata_2024-01.parquet\n",
      "2024-09-10 03:06:49,859 - __main__ - INFO - Uploading file yellow_tripdata_2024-01.parquet to Bucket: data\n",
      "2024-09-10 03:06:50,521 - __main__ - INFO - Succesfully uploaded to bucket 'data': data\n",
      "2024-09-10 03:06:50,525 - __main__ - INFO - Download Start: yellow_tripdata_2024-02.parquet\n",
      "2024-09-10 03:07:04,252 - __main__ - INFO - Download Complete: yellow_tripdata_2024-02.parquet\n",
      "2024-09-10 03:07:04,253 - __main__ - INFO - Uploading file yellow_tripdata_2024-02.parquet to Bucket: data\n",
      "2024-09-10 03:07:04,936 - __main__ - INFO - Succesfully uploaded to bucket 'data': data\n",
      "2024-09-10 03:07:04,941 - __main__ - INFO - Download Start: yellow_tripdata_2024-03.parquet\n",
      "2024-09-10 03:07:21,345 - __main__ - INFO - Download Complete: yellow_tripdata_2024-03.parquet\n",
      "2024-09-10 03:07:21,347 - __main__ - INFO - Uploading file yellow_tripdata_2024-03.parquet to Bucket: data\n",
      "2024-09-10 03:07:22,101 - __main__ - INFO - Succesfully uploaded to bucket 'data': data\n",
      "2024-09-10 03:07:22,105 - __main__ - INFO - Download Start: yellow_tripdata_2024-04.parquet\n",
      "2024-09-10 03:07:52,562 - __main__ - INFO - Download Complete: yellow_tripdata_2024-04.parquet\n",
      "2024-09-10 03:07:52,564 - __main__ - INFO - Uploading file yellow_tripdata_2024-04.parquet to Bucket: data\n",
      "2024-09-10 03:07:53,358 - __main__ - INFO - Succesfully uploaded to bucket 'data': data\n",
      "2024-09-10 03:07:53,361 - __main__ - INFO - Download Start: yellow_tripdata_2024-05.parquet\n",
      "2024-09-10 03:08:07,839 - __main__ - INFO - Download Complete: yellow_tripdata_2024-05.parquet\n",
      "2024-09-10 03:08:07,840 - __main__ - INFO - Uploading file yellow_tripdata_2024-05.parquet to Bucket: data\n",
      "2024-09-10 03:08:08,644 - __main__ - INFO - Succesfully uploaded to bucket 'data': data\n",
      "2024-09-10 03:08:08,648 - __main__ - INFO - Download Start: yellow_tripdata_2024-06.parquet\n",
      "2024-09-10 03:08:25,706 - __main__ - INFO - Download Complete: yellow_tripdata_2024-06.parquet\n",
      "2024-09-10 03:08:25,709 - __main__ - INFO - Uploading file yellow_tripdata_2024-06.parquet to Bucket: data\n",
      "2024-09-10 03:08:26,466 - __main__ - INFO - Succesfully uploaded to bucket 'data': data\n",
      "2024-09-10 03:08:26,470 - __main__ - INFO - Download Start: yellow_tripdata_2023-01.parquet\n",
      "2024-09-10 03:08:49,327 - __main__ - INFO - Download Complete: yellow_tripdata_2023-01.parquet\n",
      "2024-09-10 03:08:49,329 - __main__ - INFO - Uploading file yellow_tripdata_2023-01.parquet to Bucket: data\n",
      "2024-09-10 03:08:50,106 - __main__ - INFO - Succesfully uploaded to bucket 'data': data\n",
      "2024-09-10 03:08:50,109 - __main__ - INFO - Download Start: yellow_tripdata_2023-02.parquet\n",
      "2024-09-10 03:09:04,422 - __main__ - INFO - Download Complete: yellow_tripdata_2023-02.parquet\n",
      "2024-09-10 03:09:04,423 - __main__ - INFO - Uploading file yellow_tripdata_2023-02.parquet to Bucket: data\n",
      "2024-09-10 03:09:05,210 - __main__ - INFO - Succesfully uploaded to bucket 'data': data\n",
      "2024-09-10 03:09:05,212 - __main__ - INFO - Download Start: yellow_tripdata_2023-03.parquet\n",
      "2024-09-10 03:09:21,388 - __main__ - INFO - Download Complete: yellow_tripdata_2023-03.parquet\n",
      "2024-09-10 03:09:21,390 - __main__ - INFO - Uploading file yellow_tripdata_2023-03.parquet to Bucket: data\n",
      "2024-09-10 03:09:22,218 - __main__ - INFO - Succesfully uploaded to bucket 'data': data\n",
      "2024-09-10 03:09:22,221 - __main__ - INFO - Download Start: yellow_tripdata_2023-04.parquet\n",
      "2024-09-10 03:09:41,724 - __main__ - INFO - Download Complete: yellow_tripdata_2023-04.parquet\n",
      "2024-09-10 03:09:41,727 - __main__ - INFO - Uploading file yellow_tripdata_2023-04.parquet to Bucket: data\n",
      "2024-09-10 03:09:42,441 - __main__ - INFO - Succesfully uploaded to bucket 'data': data\n",
      "2024-09-10 03:09:42,445 - __main__ - INFO - Download Start: yellow_tripdata_2023-05.parquet\n",
      "2024-09-10 03:10:07,637 - __main__ - INFO - Download Complete: yellow_tripdata_2023-05.parquet\n",
      "2024-09-10 03:10:07,639 - __main__ - INFO - Uploading file yellow_tripdata_2023-05.parquet to Bucket: data\n",
      "2024-09-10 03:10:08,498 - __main__ - INFO - Succesfully uploaded to bucket 'data': data\n",
      "2024-09-10 03:10:08,502 - __main__ - INFO - Download Start: yellow_tripdata_2023-06.parquet\n",
      "2024-09-10 03:10:25,510 - __main__ - INFO - Download Complete: yellow_tripdata_2023-06.parquet\n",
      "2024-09-10 03:10:25,512 - __main__ - INFO - Uploading file yellow_tripdata_2023-06.parquet to Bucket: data\n",
      "2024-09-10 03:10:26,172 - __main__ - INFO - Succesfully uploaded to bucket 'data': data\n",
      "2024-09-10 03:10:26,175 - __main__ - INFO - Download Start: yellow_tripdata_2023-07.parquet\n",
      "2024-09-10 03:10:48,720 - __main__ - INFO - Download Complete: yellow_tripdata_2023-07.parquet\n",
      "2024-09-10 03:10:48,721 - __main__ - INFO - Uploading file yellow_tripdata_2023-07.parquet to Bucket: data\n",
      "2024-09-10 03:10:49,332 - __main__ - INFO - Succesfully uploaded to bucket 'data': data\n",
      "2024-09-10 03:10:49,335 - __main__ - INFO - Download Start: yellow_tripdata_2023-08.parquet\n",
      "2024-09-10 03:11:02,866 - __main__ - INFO - Download Complete: yellow_tripdata_2023-08.parquet\n",
      "2024-09-10 03:11:02,867 - __main__ - INFO - Uploading file yellow_tripdata_2023-08.parquet to Bucket: data\n",
      "2024-09-10 03:11:03,496 - __main__ - INFO - Succesfully uploaded to bucket 'data': data\n",
      "2024-09-10 03:11:03,499 - __main__ - INFO - Download Start: yellow_tripdata_2023-09.parquet\n",
      "2024-09-10 03:11:17,994 - __main__ - INFO - Download Complete: yellow_tripdata_2023-09.parquet\n",
      "2024-09-10 03:11:17,996 - __main__ - INFO - Uploading file yellow_tripdata_2023-09.parquet to Bucket: data\n",
      "2024-09-10 03:11:18,587 - __main__ - INFO - Succesfully uploaded to bucket 'data': data\n",
      "2024-09-10 03:11:18,590 - __main__ - INFO - Download Start: yellow_tripdata_2023-10.parquet\n",
      "2024-09-10 03:11:33,263 - __main__ - INFO - Download Complete: yellow_tripdata_2023-10.parquet\n",
      "2024-09-10 03:11:33,265 - __main__ - INFO - Uploading file yellow_tripdata_2023-10.parquet to Bucket: data\n",
      "2024-09-10 03:11:33,977 - __main__ - INFO - Succesfully uploaded to bucket 'data': data\n",
      "2024-09-10 03:11:33,980 - __main__ - INFO - Download Start: yellow_tripdata_2023-11.parquet\n",
      "2024-09-10 03:11:48,705 - __main__ - INFO - Download Complete: yellow_tripdata_2023-11.parquet\n",
      "2024-09-10 03:11:48,708 - __main__ - INFO - Uploading file yellow_tripdata_2023-11.parquet to Bucket: data\n",
      "2024-09-10 03:11:49,461 - __main__ - INFO - Succesfully uploaded to bucket 'data': data\n",
      "2024-09-10 03:11:49,464 - __main__ - INFO - Download Start: yellow_tripdata_2023-12.parquet\n",
      "2024-09-10 03:12:04,427 - __main__ - INFO - Download Complete: yellow_tripdata_2023-12.parquet\n",
      "2024-09-10 03:12:04,428 - __main__ - INFO - Uploading file yellow_tripdata_2023-12.parquet to Bucket: data\n",
      "2024-09-10 03:12:05,143 - __main__ - INFO - Succesfully uploaded to bucket 'data': data\n",
      "2024-09-10 03:12:05,146 - __main__ - INFO - Download Start: yellow_tripdata_2022-01.parquet\n",
      "2024-09-10 03:12:17,864 - __main__ - INFO - Download Complete: yellow_tripdata_2022-01.parquet\n",
      "2024-09-10 03:12:17,866 - __main__ - INFO - Uploading file yellow_tripdata_2022-01.parquet to Bucket: data\n",
      "2024-09-10 03:12:18,346 - __main__ - INFO - Succesfully uploaded to bucket 'data': data\n",
      "2024-09-10 03:12:18,348 - __main__ - INFO - Download Start: yellow_tripdata_2022-02.parquet\n",
      "2024-09-10 03:12:33,934 - __main__ - INFO - Download Complete: yellow_tripdata_2022-02.parquet\n",
      "2024-09-10 03:12:33,936 - __main__ - INFO - Uploading file yellow_tripdata_2022-02.parquet to Bucket: data\n",
      "2024-09-10 03:12:34,972 - __main__ - INFO - Succesfully uploaded to bucket 'data': data\n",
      "2024-09-10 03:12:34,976 - __main__ - INFO - Download Start: yellow_tripdata_2022-03.parquet\n",
      "2024-09-10 03:12:51,823 - __main__ - INFO - Download Complete: yellow_tripdata_2022-03.parquet\n",
      "2024-09-10 03:12:51,824 - __main__ - INFO - Uploading file yellow_tripdata_2022-03.parquet to Bucket: data\n",
      "2024-09-10 03:12:52,515 - __main__ - INFO - Succesfully uploaded to bucket 'data': data\n",
      "2024-09-10 03:12:52,518 - __main__ - INFO - Download Start: yellow_tripdata_2022-04.parquet\n",
      "2024-09-10 03:13:10,151 - __main__ - INFO - Download Complete: yellow_tripdata_2022-04.parquet\n",
      "2024-09-10 03:13:10,153 - __main__ - INFO - Uploading file yellow_tripdata_2022-04.parquet to Bucket: data\n",
      "2024-09-10 03:13:10,846 - __main__ - INFO - Succesfully uploaded to bucket 'data': data\n",
      "2024-09-10 03:13:10,850 - __main__ - INFO - Download Start: yellow_tripdata_2022-05.parquet\n",
      "2024-09-10 03:13:32,974 - __main__ - INFO - Download Complete: yellow_tripdata_2022-05.parquet\n",
      "2024-09-10 03:13:32,976 - __main__ - INFO - Uploading file yellow_tripdata_2022-05.parquet to Bucket: data\n",
      "2024-09-10 03:13:33,762 - __main__ - INFO - Succesfully uploaded to bucket 'data': data\n",
      "2024-09-10 03:13:33,765 - __main__ - INFO - Download Start: yellow_tripdata_2022-06.parquet\n",
      "2024-09-10 03:13:56,497 - __main__ - INFO - Download Complete: yellow_tripdata_2022-06.parquet\n",
      "2024-09-10 03:13:56,498 - __main__ - INFO - Uploading file yellow_tripdata_2022-06.parquet to Bucket: data\n",
      "2024-09-10 03:13:57,133 - __main__ - INFO - Succesfully uploaded to bucket 'data': data\n",
      "2024-09-10 03:13:57,136 - __main__ - INFO - Download Start: yellow_tripdata_2022-07.parquet\n",
      "2024-09-10 03:14:13,982 - __main__ - INFO - Download Complete: yellow_tripdata_2022-07.parquet\n",
      "2024-09-10 03:14:13,984 - __main__ - INFO - Uploading file yellow_tripdata_2022-07.parquet to Bucket: data\n",
      "2024-09-10 03:14:14,710 - __main__ - INFO - Succesfully uploaded to bucket 'data': data\n",
      "2024-09-10 03:14:14,713 - __main__ - INFO - Download Start: yellow_tripdata_2022-08.parquet\n"
     ]
    }
   ],
   "source": [
    "data_till_year = 2019\n",
    "for link in headers:\n",
    "    url = link.get('href').strip()\n",
    "    file_name = url.split('/')[-1]\n",
    "    year, month = file_name.split('_')[-1].split('.')[0].split('-')\n",
    "    if int(year) >= data_till_year:\n",
    "        process_and_upload_to_minio(url, file_name, year, month, bucket_name)\n",
    "    else:\n",
    "        break"
   ]
  }
 ],
 "metadata": {
  "kernelspec": {
   "display_name": "Python 3 (ipykernel)",
   "language": "python",
   "name": "python3"
  },
  "language_info": {
   "codemirror_mode": {
    "name": "ipython",
    "version": 3
   },
   "file_extension": ".py",
   "mimetype": "text/x-python",
   "name": "python",
   "nbconvert_exporter": "python",
   "pygments_lexer": "ipython3",
   "version": "3.10.15"
  },
  "vscode": {
   "interpreter": {
    "hash": "3c06e3e46abf38078fe4dac36a0085ec2b134ebbd73dd076183d243eeca6918f"
   }
  }
 },
 "nbformat": 4,
 "nbformat_minor": 4
}
