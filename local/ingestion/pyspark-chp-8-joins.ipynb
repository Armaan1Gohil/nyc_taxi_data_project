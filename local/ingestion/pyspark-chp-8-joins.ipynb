{
 "cells": [
  {
   "cell_type": "code",
   "execution_count": 1,
   "id": "b7f3ee69-ecf3-4563-b6b9-e1f31654dcf7",
   "metadata": {},
   "outputs": [],
   "source": [
    "from pyspark.sql import SparkSession"
   ]
  },
  {
   "cell_type": "code",
   "execution_count": 5,
   "id": "c4b29fd2-ebdb-4a6a-aca5-67a26eb18261",
   "metadata": {},
   "outputs": [
    {
     "name": "stderr",
     "output_type": "stream",
     "text": [
      "----------------------------------------\n",
      "Exception occurred during processing of request from ('127.0.0.1', 59288)\n",
      "Traceback (most recent call last):\n",
      "  File \"/usr/lib/python3.10/socketserver.py\", line 316, in _handle_request_noblock\n",
      "    self.process_request(request, client_address)\n",
      "  File \"/usr/lib/python3.10/socketserver.py\", line 347, in process_request\n",
      "    self.finish_request(request, client_address)\n",
      "  File \"/usr/lib/python3.10/socketserver.py\", line 360, in finish_request\n",
      "    self.RequestHandlerClass(request, client_address, self)\n",
      "  File \"/usr/lib/python3.10/socketserver.py\", line 747, in __init__\n",
      "    self.handle()\n",
      "  File \"/opt/spark/python/pyspark/accumulators.py\", line 281, in handle\n",
      "    poll(accum_updates)\n",
      "  File \"/opt/spark/python/pyspark/accumulators.py\", line 253, in poll\n",
      "    if func():\n",
      "  File \"/opt/spark/python/pyspark/accumulators.py\", line 257, in accum_updates\n",
      "    num_updates = read_int(self.rfile)\n",
      "  File \"/opt/spark/python/pyspark/serializers.py\", line 596, in read_int\n",
      "    raise EOFError\n",
      "EOFError\n",
      "----------------------------------------\n"
     ]
    }
   ],
   "source": [
    "spark = SparkSession.builder \\\n",
    "    .master('local[*]') \\\n",
    "    .appName('learn-spark') \\\n",
    "    .getOrCreate()"
   ]
  },
  {
   "cell_type": "code",
   "execution_count": 14,
   "id": "f05c4e17-1eda-467c-ae75-2254e5fe6c2e",
   "metadata": {},
   "outputs": [],
   "source": [
    "person = spark.createDataFrame([\n",
    "    (0, 'Bill Chambers', 0, [100]),\n",
    "    (1, 'Matel Zaharia', 1, [500, 250, 100]),\n",
    "    (2, 'Michael Armbrust', 1, [250, 100])\n",
    "]).toDF('id', 'name', 'graduate_program', 'spark_status')\n",
    "\n",
    "graduateProgram = spark.createDataFrame([\n",
    "    (0, 'Masters', 'School of Information', 'UC Berkeley'),\n",
    "    (2, 'Masters', 'EECS', 'UC Berkeley'),\n",
    "    (1, 'Ph.D.', 'EECS', 'UC Berkeley')\n",
    "]).toDF('id', 'degree', 'department', 'school')\n",
    "\n",
    "sparkStatus = spark.createDataFrame([\n",
    "    (500, 'Vice President'),\n",
    "    (250, 'PMC Member'),\n",
    "    (100, 'Contributor')\n",
    "]).toDF('id', 'status')"
   ]
  },
  {
   "cell_type": "code",
   "execution_count": 15,
   "id": "755ead87-fbd2-47be-be2f-2f9ca84995ed",
   "metadata": {},
   "outputs": [],
   "source": [
    "person.createOrReplaceTempView('person')\n",
    "graduateProgram.createOrReplaceTempView('graduateProgram')\n",
    "sparkStatus.createOrReplaceTempView('sparkStatus')"
   ]
  },
  {
   "cell_type": "code",
   "execution_count": null,
   "id": "4b2e419e-fe49-4817-81c8-9e6bc56b72e4",
   "metadata": {},
   "outputs": [],
   "source": []
  }
 ],
 "metadata": {
  "kernelspec": {
   "display_name": "Python 3 (ipykernel)",
   "language": "python",
   "name": "python3"
  },
  "language_info": {
   "codemirror_mode": {
    "name": "ipython",
    "version": 3
   },
   "file_extension": ".py",
   "mimetype": "text/x-python",
   "name": "python",
   "nbconvert_exporter": "python",
   "pygments_lexer": "ipython3",
   "version": "3.10.6"
  }
 },
 "nbformat": 4,
 "nbformat_minor": 5
}
